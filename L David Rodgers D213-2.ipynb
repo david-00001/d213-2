{
 "cells": [
  {
   "cell_type": "code",
   "execution_count": 1,
   "id": "2e08d430-42aa-47d7-bc9f-7b0f11a8599e",
   "metadata": {},
   "outputs": [
    {
     "name": "stderr",
     "output_type": "stream",
     "text": [
      "[nltk_data] Downloading package stopwords to\n",
      "[nltk_data]     C:\\Users\\drodgers\\AppData\\Roaming\\nltk_data...\n",
      "[nltk_data]   Package stopwords is already up-to-date!\n",
      "[nltk_data] Downloading package punkt to\n",
      "[nltk_data]     C:\\Users\\drodgers\\AppData\\Roaming\\nltk_data...\n",
      "[nltk_data]   Package punkt is already up-to-date!\n"
     ]
    },
    {
     "data": {
      "text/plain": [
       "True"
      ]
     },
     "execution_count": 1,
     "metadata": {},
     "output_type": "execute_result"
    }
   ],
   "source": [
    "# Import packages\n",
    "import pandas as pd\n",
    "import matplotlib.pyplot as plt\n",
    "import tensorflow.keras\n",
    "from tensorflow.keras.models import Sequential\n",
    "from nltk.tokenize import word_tokenize\n",
    "from nltk.corpus import stopwords\n",
    "import re\n",
    "import nltk\n",
    "from nltk.stem import WordNetLemmatizer\n",
    "from tensorflow.keras.preprocessing.text import Tokenizer\n",
    "from tensorflow.keras.preprocessing.sequence import pad_sequences\n",
    "from sklearn.model_selection import train_test_split\n",
    "from tensorflow.keras.layers import Embedding, LSTM, Dense\n",
    "\n",
    "nltk.download('stopwords')\n",
    "nltk.download('punkt')"
   ]
  },
  {
   "cell_type": "code",
   "execution_count": 2,
   "id": "0a609f91-fdea-4598-88af-11090c238da5",
   "metadata": {},
   "outputs": [
    {
     "name": "stdout",
     "output_type": "stream",
     "text": [
      "Amazon shape: (1000, 2)\n",
      "IMDB shape: (748, 2)\n",
      "Yelp shape: (1000, 2)\n"
     ]
    }
   ],
   "source": [
    "# Specify column names\n",
    "column_names = ['Review', 'Label']\n",
    "\n",
    "# Read in txt files and set column headers\n",
    "amazon = pd.read_csv('amazon_cells_labelled.txt', delimiter='\\t', header=None, names=column_names)\n",
    "print(f'Amazon shape: {amazon.shape}')\n",
    "imdb = pd.read_csv('imdb_labelled.txt', delimiter='\\t', header=None, names=column_names)\n",
    "print(f'IMDB shape: {imdb.shape}')\n",
    "yelp = pd.read_csv('yelp_labelled.txt', delimiter='\\t', header=None, names=column_names)\n",
    "print(f'Yelp shape: {yelp.shape}')"
   ]
  },
  {
   "cell_type": "code",
   "execution_count": 3,
   "id": "a24a61d0-3070-48ce-a5cd-46092cfacbb3",
   "metadata": {},
   "outputs": [],
   "source": [
    "# Concatenate the three dataframes together\n",
    "df = pd.concat([amazon, imdb, yelp], ignore_index=True)"
   ]
  },
  {
   "cell_type": "code",
   "execution_count": 4,
   "id": "6a80b1a5-663f-4562-97e2-73f7123cc08c",
   "metadata": {},
   "outputs": [
    {
     "name": "stdout",
     "output_type": "stream",
     "text": [
      "<class 'pandas.core.frame.DataFrame'>\n",
      "RangeIndex: 2748 entries, 0 to 2747\n",
      "Data columns (total 2 columns):\n",
      " #   Column  Non-Null Count  Dtype \n",
      "---  ------  --------------  ----- \n",
      " 0   Review  2748 non-null   object\n",
      " 1   Label   2748 non-null   int64 \n",
      "dtypes: int64(1), object(1)\n",
      "memory usage: 43.1+ KB\n"
     ]
    }
   ],
   "source": [
    "# Check for null values\n",
    "df.info()"
   ]
  },
  {
   "cell_type": "code",
   "execution_count": 5,
   "id": "014de3d6-d543-4132-9168-eaf62a4e934d",
   "metadata": {
    "scrolled": true
   },
   "outputs": [
    {
     "data": {
      "text/plain": [
       "Label\n",
       "1    1386\n",
       "0    1362\n",
       "Name: count, dtype: int64"
      ]
     },
     "execution_count": 5,
     "metadata": {},
     "output_type": "execute_result"
    }
   ],
   "source": [
    "# Check Label to make sure values look appropriate\n",
    "df['Label'].value_counts()"
   ]
  },
  {
   "cell_type": "markdown",
   "id": "8b497691-e4f4-469e-bbf6-d62a0449768e",
   "metadata": {},
   "source": [
    "# Applying Lowercase and Remove Punctuation"
   ]
  },
  {
   "cell_type": "code",
   "execution_count": 6,
   "id": "3cec282d-80db-419d-a692-ab76cb67aa26",
   "metadata": {},
   "outputs": [
    {
     "name": "stdout",
     "output_type": "stream",
     "text": [
      "Before any preprocessing:\n",
      "So there is no way for me to plug it in here in the US unless I go by a converter.\n",
      "\n",
      "After applying lowercase:\n",
      "so there is no way for me to plug it in here in the us unless i go by a converter.\n",
      "\n",
      "After removing punctuation:\n",
      "so there is no way for me to plug it in here in the us unless i go by a converter\n"
     ]
    }
   ],
   "source": [
    "print('Before any preprocessing:')\n",
    "print(df['Review'].iloc[0])\n",
    "print()\n",
    "\n",
    "# Set 'Review' to lowercase\n",
    "df['Review'] = df['Review'].str.lower()\n",
    "\n",
    "print('After applying lowercase:')\n",
    "print(df['Review'].iloc[0])\n",
    "print()\n",
    "\n",
    "# Remove punctuation (Sewell, Web6)\n",
    "pattern = re.compile(r'[^\\w\\s]')\n",
    "df['Review'] = df['Review'].apply(lambda x: pattern.sub('', x))\n",
    "print('After removing punctuation:')\n",
    "print(df['Review'].iloc[0])"
   ]
  },
  {
   "cell_type": "code",
   "execution_count": 7,
   "id": "fa5698c7-fca8-44fc-b85a-62a49f3826e8",
   "metadata": {},
   "outputs": [
    {
     "name": "stdout",
     "output_type": "stream",
     "text": [
      "Rows with special characters:\n",
      "                                                 Review  Label\n",
      "1019   the structure of this film is easily the most...      0\n",
      "1226  this show is made for americans  it is too stu...      0\n",
      "1271  a cheap and cheerless heist movie with poor ch...      0\n",
      "1297  and i forgot the casting here i superb with tr...      1\n",
      "1569  i am so tired of clichés that is just lazy wri...      0\n",
      "1898  my fiancé and i came in the middle of the day ...      1\n",
      "2346  i really enjoyed crema café before they expand...      1\n",
      "2571          the crêpe was delicate and thin and moist      1\n",
      "2663  the only thing i wasnt too crazy about was the...      0\n"
     ]
    }
   ],
   "source": [
    "# Compile the pattern to remove special characters\n",
    "pattern = re.compile(r'[^A-Za-z0-9\\s]')\n",
    "\n",
    "# Find rows with special characters\n",
    "rows_with_special_chars = df[df['Review'].str.contains(pattern)]\n",
    "\n",
    "# Print rows with special characters\n",
    "print(\"Rows with special characters:\")\n",
    "print(rows_with_special_chars)\n",
    "\n",
    "# Apply the compiled pattern to remove special characters from the 'Review' column\n",
    "df['Review'] = df['Review'].apply(lambda x: pattern.sub('', x))\n"
   ]
  },
  {
   "cell_type": "markdown",
   "id": "cfd4000d-6202-4b50-9be8-fba1ba7d44f6",
   "metadata": {},
   "source": [
    "# Tokenization, Stop words, and Lemmatization"
   ]
  },
  {
   "cell_type": "code",
   "execution_count": 8,
   "id": "b8f29af5-f47b-4214-a433-8ae21cfe36dd",
   "metadata": {},
   "outputs": [
    {
     "name": "stdout",
     "output_type": "stream",
     "text": [
      "Before tokenizing and applying stopwords:\n",
      "so there is no way for me to plug it in here in the us unless i go by a converter\n",
      "\n",
      "After tokenizing and applying stopwords:\n",
      "['way', 'plug', 'us', 'unless', 'go', 'converter']\n"
     ]
    }
   ],
   "source": [
    "# Tokenize and remove stop words (Sewell, Web6)\n",
    "print('Before tokenizing and applying stopwords:')\n",
    "print(df['Review'].iloc[0])\n",
    "print()\n",
    "\n",
    "# Download stop word list\n",
    "stop_words = set(stopwords.words('english'))\n",
    "\n",
    "# Create empty list\n",
    "data_set = []\n",
    "\n",
    "# Tokenize each word in sentence and remove stop words\n",
    "for sentence in df['Review']:\n",
    "    data_set.append([word for word in word_tokenize(sentence) if word not in stop_words])\n",
    "\n",
    "# Assign list back to dataframe\n",
    "df['Review'] = data_set\n",
    "\n",
    "print('After tokenizing and applying stopwords:')\n",
    "print(df['Review'].iloc[0])"
   ]
  },
  {
   "cell_type": "code",
   "execution_count": 9,
   "id": "8d18ff1c-eecd-41a9-a948-d674f8293a28",
   "metadata": {},
   "outputs": [
    {
     "name": "stdout",
     "output_type": "stream",
     "text": [
      "Before Stemming:\n",
      "                                              Review  Label\n",
      "0             [way, plug, us, unless, go, converter]      0\n",
      "1                     [good, case, excellent, value]      1\n",
      "2                                   [great, jawbone]      1\n",
      "3  [tied, charger, conversations, lasting, 45, mi...      0\n",
      "4                                       [mic, great]      1\n",
      "5  [jiggle, plug, get, line, right, get, decent, ...      0\n",
      "6  [several, dozen, several, hundred, contacts, i...      0\n",
      "7                             [razr, owneryou, must]      1\n",
      "8                     [needless, say, wasted, money]      0\n",
      "9                               [waste, money, time]      0\n",
      "\n",
      "After Stemming:\n",
      "                                              Review  Label\n",
      "0               [way, plug, us, unless, go, convert]      0\n",
      "1                          [good, case, excel, valu]      1\n",
      "2                                    [great, jawbon]      1\n",
      "3  [tie, charger, convers, last, 45, minutesmajor...      0\n",
      "4                                       [mic, great]      1\n",
      "5  [jiggl, plug, get, line, right, get, decent, v...      0\n",
      "6  [sever, dozen, sever, hundr, contact, imagin, ...      0\n",
      "7                               [razr, ownery, must]      1\n",
      "8                       [needless, say, wast, money]      0\n",
      "9                                [wast, money, time]      0\n"
     ]
    }
   ],
   "source": [
    "from nltk.stem import PorterStemmer\n",
    "# Initialize PorterStemmer object\n",
    "stemmer = PorterStemmer()\n",
    "\n",
    "# Create a function to stem tokenized text\n",
    "def stem_tokens(token_list):\n",
    "    return [stemmer.stem(word) for word in token_list]\n",
    "\n",
    "# Apply function to text\n",
    "print('Before Stemming:')\n",
    "#print(df['Review'].iloc[0])\n",
    "print(df.head(10))\n",
    "print()\n",
    "\n",
    "df['Review'] = df['Review'].apply(stem_tokens)\n",
    "\n",
    "print('After Stemming:')\n",
    "#print(df['Review'].iloc[0])\n",
    "print(df.head(10))"
   ]
  },
  {
   "cell_type": "code",
   "execution_count": 10,
   "id": "6cb64c4e-383a-4590-b129-4616a9deff2f",
   "metadata": {},
   "outputs": [],
   "source": [
    "# # Apply Lemmatizer (Sewell, Web6)\n",
    "# print('Before Lemmatization:')\n",
    "# print(df['Review'].iloc[0])\n",
    "# print()\n",
    "\n",
    "# # Initialize Lemmatizer object\n",
    "# lemmatizer = WordNetLemmatizer()\n",
    "\n",
    "# # Create a function to lemmatize text\n",
    "# def lem(token_text):\n",
    "#     text = [lemmatizer.lemmatize(word) for word in token_text]\n",
    "#     return text\n",
    "\n",
    "# # Apply function to text\n",
    "# df['Review'] = df['Review'].apply(lem)\n",
    "\n",
    "# print(f'After Lemmatization:')\n",
    "# print(df['Review'].iloc[0])"
   ]
  },
  {
   "cell_type": "markdown",
   "id": "eee42baf-345a-4fe0-a335-f0e9c65a8fd1",
   "metadata": {},
   "source": [
    "# Vectorization"
   ]
  },
  {
   "cell_type": "code",
   "execution_count": 11,
   "id": "58d039a6-c534-44fd-a008-310562b12c41",
   "metadata": {},
   "outputs": [
    {
     "name": "stdout",
     "output_type": "stream",
     "text": [
      "Word Index Length: 4175\n"
     ]
    },
    {
     "data": {
      "image/png": "[encoded data removed]",
      "text/plain": [
       "<Figure size 1000x600 with 1 Axes>"
      ]
     },
     "metadata": {},
     "output_type": "display_data"
    },
    {
     "name": "stdout",
     "output_type": "stream",
     "text": [
      "Suggested vocabulary size (covering 95.0% of occurrences): 3233\n"
     ]
    }
   ],
   "source": [
    "# Step 1: Tokenize the text and build the vocabulary\n",
    "tokenizer = Tokenizer()\n",
    "tokenizer.fit_on_texts(df['Review'])\n",
    "\n",
    "# Step 2: Get the word index and word counts\n",
    "word_index = tokenizer.word_index\n",
    "print(f'Word Index Length: {len(word_index)}')\n",
    "word_counts = tokenizer.word_counts\n",
    "\n",
    "# Step 3: Convert word_counts to a DataFrame for analysis\n",
    "word_counts_df = pd.DataFrame(list(word_counts.items()), columns=['word', 'count'])\n",
    "word_counts_df = word_counts_df.sort_values(by='count', ascending=False).reset_index(drop=True)\n",
    "\n",
    "# Step 4: Plot the word frequency distribution\n",
    "plt.figure(figsize=(10, 6))\n",
    "plt.plot(word_counts_df['count'].values)\n",
    "plt.yscale('log')\n",
    "plt.xlabel('Rank')\n",
    "plt.ylabel('Frequency')\n",
    "plt.title('Word Frequency Distribution')\n",
    "plt.show()\n",
    "\n",
    "# Step 5: Determine the cumulative coverage of word counts\n",
    "word_counts_df['cumulative_count'] = word_counts_df['count'].cumsum()\n",
    "total_count = word_counts_df['count'].sum()\n",
    "word_counts_df['coverage'] = word_counts_df['cumulative_count'] / total_count\n",
    "\n",
    "# Step 6: Choose a vocabulary size that covers a high percentage of the total occurrences (e.g., 95%)\n",
    "coverage_threshold = 0.95\n",
    "vocab_size = word_counts_df[word_counts_df['coverage'] >= coverage_threshold].index[0] + 1\n",
    "print(f'Suggested vocabulary size (covering {coverage_threshold*100}% of occurrences): {vocab_size}')\n",
    "\n",
    "# Step 7: Apply the chosen vocabulary size\n",
    "tokenizer = Tokenizer(num_words=vocab_size)\n",
    "tokenizer.fit_on_texts(df['Review'])\n",
    "sequences = tokenizer.texts_to_sequences(df['Review'])"
   ]
  },
  {
   "cell_type": "code",
   "execution_count": 12,
   "id": "c89b1f1b-ca3f-438c-85cf-50c1c31a9761",
   "metadata": {},
   "outputs": [],
   "source": [
    "# from collections import Counter\n",
    "# # Flatten the list of tokenized reviews to count word frequencies\n",
    "# all_words = [word for review in df['Review'] for word in review]\n",
    "\n",
    "# # Count the word frequencies\n",
    "# word_freq = Counter(all_words)\n",
    "# word_freq_df = pd.DataFrame(word_freq.items(), columns=['word', 'count'])\n",
    "# word_freq_df = word_freq_df.sort_values(by='count', ascending=False).reset_index(drop=True)\n",
    "\n",
    "# # Calculate total occurrences and cumulative coverage\n",
    "# total_occurrences = word_freq_df['count'].sum()\n",
    "# word_freq_df['cumulative_count'] = word_freq_df['count'].cumsum()\n",
    "# word_freq_df['coverage'] = word_freq_df['cumulative_count'] / total_occurrences\n",
    "\n",
    "# # Plot the word frequency distribution\n",
    "# plt.figure(figsize=(10, 6))\n",
    "# plt.plot(word_freq_df['count'].values)\n",
    "# plt.yscale('log')\n",
    "# plt.xlabel('Rank')\n",
    "# plt.ylabel('Frequency')\n",
    "# plt.title('Word Frequency Distribution')\n",
    "# plt.show()\n",
    "\n",
    "# # Plot the cumulative distribution\n",
    "# plt.figure(figsize=(10, 6))\n",
    "# plt.plot(word_freq_df['coverage'].values)\n",
    "# plt.xlabel('Vocabulary Size')\n",
    "# plt.ylabel('Coverage')\n",
    "# plt.title('Cumulative Coverage of Vocabulary')\n",
    "# plt.axhline(y=0.95, color='r', linestyle='--')\n",
    "# plt.show()\n",
    "\n",
    "# # Determine the vocabulary size for the desired coverage (e.g., 95%)\n",
    "# coverage_threshold = 0.95\n",
    "# vocab_size = word_freq_df[word_freq_df['coverage'] >= coverage_threshold].index[0] + 1\n",
    "# print(f'Suggested vocabulary size (covering {coverage_threshold * 100}% of occurrences): {vocab_size}')"
   ]
  },
  {
   "cell_type": "code",
   "execution_count": 13,
   "id": "12b5c853-c86e-44f4-b4e5-3fdf55a76c9f",
   "metadata": {},
   "outputs": [
    {
     "name": "stdout",
     "output_type": "stream",
     "text": [
      "Before vectorizing for model:\n",
      "['way', 'plug', 'us', 'unless', 'go', 'convert']\n",
      "\n",
      "After vectorizing for model:\n",
      "[52, 230, 120, 566, 17, 1839]\n"
     ]
    }
   ],
   "source": [
    "# Vectorization (Sewell, Web6)\n",
    "print('Before vectorizing for model:')\n",
    "print(df['Review'].iloc[0])\n",
    "print()\n",
    "\n",
    "vocab_size = 50000\n",
    "tokenizer = Tokenizer(num_words = 3920)\n",
    "tokenizer.fit_on_texts(df['Review'])\n",
    "sequences = tokenizer.texts_to_sequences(df['Review'])\n",
    "\n",
    "print('After vectorizing for model:')\n",
    "print(sequences[0])"
   ]
  },
  {
   "cell_type": "markdown",
   "id": "fd3e4c5b-66ab-4a6e-a6f1-9421bc19568f",
   "metadata": {},
   "source": [
    "# Determine Max Length For Padding"
   ]
  },
  {
   "cell_type": "code",
   "execution_count": 14,
   "id": "3c6e2dd2-79fc-4b26-80bb-57c2861019db",
   "metadata": {},
   "outputs": [
    {
     "name": "stdout",
     "output_type": "stream",
     "text": [
      "count    2748.000000\n",
      "mean        6.764556\n",
      "std        20.398904\n",
      "min         0.000000\n",
      "25%         3.000000\n",
      "50%         5.000000\n",
      "75%         8.000000\n",
      "max       789.000000\n",
      "dtype: float64\n"
     ]
    },
    {
     "data": {
      "image/png": "[encoded data removed]",
      "text/plain": [
       "<Figure size 640x480 with 1 Axes>"
      ]
     },
     "metadata": {},
     "output_type": "display_data"
    },
    {
     "data": {
      "image/png": "[encoded data removed]",
      "text/plain": [
       "<Figure size 640x480 with 1 Axes>"
      ]
     },
     "metadata": {},
     "output_type": "display_data"
    },
    {
     "name": "stdout",
     "output_type": "stream",
     "text": [
      "Suggested max_length (95th percentile): 492\n",
      "Chosen max_length: 492\n"
     ]
    }
   ],
   "source": [
    "# Calculate the lengths of the sequences\n",
    "lengths = [len(seq) for seq in sequences]\n",
    "\n",
    "# Describe the lengths\n",
    "lengths_series = pd.Series(lengths)\n",
    "print(lengths_series.describe())\n",
    "\n",
    "# Plot the distribution of sequence lengths\n",
    "plt.hist(lengths, bins=100, log=True)\n",
    "plt.xlabel('Sequence Length')\n",
    "plt.ylabel('Frequency (Log Scale)')\n",
    "plt.title('Distribution of Sequence Lengths (Log Scale)')\n",
    "plt.show()\n",
    "\n",
    "# Plot the cumulative distribution\n",
    "sorted_lengths = sorted(lengths)\n",
    "cumulative_lengths = [sum(sorted_lengths[:i+1])/sum(sorted_lengths) for i in range(len(sorted_lengths))]\n",
    "\n",
    "plt.plot(sorted_lengths, cumulative_lengths)\n",
    "plt.xlabel('Sequence Length')\n",
    "plt.ylabel('Cumulative Proportion of Total Length')\n",
    "plt.title('Cumulative Distribution of Sequence Lengths')\n",
    "plt.axhline(y=0.95, color='r', linestyle='--')\n",
    "plt.show()\n",
    "\n",
    "# Decide on max_length based on cumulative distribution (e.g., 95th percentile)\n",
    "for i, cumulative_proportion in enumerate(cumulative_lengths):\n",
    "    if cumulative_proportion >= 0.95:\n",
    "        max_length = sorted_lengths[i]\n",
    "        break\n",
    "\n",
    "print(f'Suggested max_length (95th percentile): {max_length}')\n",
    "\n",
    "# Alternatively, use a specific value based on observation\n",
    "max_length = int(max_length)  # Ensure it's an integer\n",
    "print(f'Chosen max_length: {max_length}')"
   ]
  },
  {
   "cell_type": "code",
   "execution_count": 15,
   "id": "18fbfc43-dcbc-4e96-b0aa-d81b45f8e883",
   "metadata": {},
   "outputs": [
    {
     "name": "stdout",
     "output_type": "stream",
     "text": [
      "Before padding:\n",
      "[52, 230, 120, 566, 17, 1839]\n",
      "\n",
      "After padding:\n",
      "[  52  230  120  566   17 1839    0    0    0    0    0    0    0    0\n",
      "    0    0    0    0    0    0    0    0    0    0    0    0    0    0\n",
      "    0    0    0    0    0    0    0    0    0    0    0    0    0    0\n",
      "    0    0    0    0    0    0    0    0    0    0    0    0    0    0\n",
      "    0    0    0    0    0    0    0    0    0    0    0    0    0    0\n",
      "    0    0    0    0    0    0    0    0    0    0    0    0    0    0\n",
      "    0    0    0    0    0    0    0    0    0    0    0    0    0    0\n",
      "    0    0    0    0    0    0    0    0    0    0    0    0    0    0\n",
      "    0    0    0    0    0    0    0    0    0    0    0    0    0    0\n",
      "    0    0    0    0    0    0    0    0    0    0    0    0    0    0\n",
      "    0    0    0    0    0    0    0    0    0    0    0    0    0    0\n",
      "    0    0    0    0    0    0    0    0    0    0    0    0    0    0\n",
      "    0    0    0    0    0    0    0    0    0    0    0    0    0    0\n",
      "    0    0    0    0    0    0    0    0    0    0    0    0    0    0\n",
      "    0    0    0    0    0    0    0    0    0    0    0    0    0    0\n",
      "    0    0    0    0    0    0    0    0    0    0    0    0    0    0\n",
      "    0    0    0    0    0    0    0    0    0    0    0    0    0    0\n",
      "    0    0    0    0    0    0    0    0    0    0    0    0    0    0\n",
      "    0    0    0    0    0    0    0    0    0    0    0    0    0    0\n",
      "    0    0    0    0    0    0    0    0    0    0    0    0    0    0\n",
      "    0    0    0    0    0    0    0    0    0    0    0    0    0    0\n",
      "    0    0    0    0    0    0    0    0    0    0    0    0    0    0\n",
      "    0    0    0    0    0    0    0    0    0    0    0    0    0    0\n",
      "    0    0    0    0    0    0    0    0    0    0    0    0    0    0\n",
      "    0    0    0    0    0    0    0    0    0    0    0    0    0    0\n",
      "    0    0    0    0    0    0    0    0    0    0    0    0    0    0\n",
      "    0    0    0    0    0    0    0    0    0    0    0    0    0    0\n",
      "    0    0    0    0    0    0    0    0    0    0    0    0    0    0\n",
      "    0    0    0    0    0    0    0    0    0    0    0    0    0    0\n",
      "    0    0    0    0    0    0    0    0    0    0    0    0    0    0\n",
      "    0    0    0    0    0    0    0    0    0    0    0    0    0    0\n",
      "    0    0    0    0    0    0    0    0    0    0    0    0    0    0\n",
      "    0    0    0    0    0    0    0    0    0    0    0    0    0    0\n",
      "    0    0    0    0    0    0    0    0    0    0    0    0    0    0\n",
      "    0    0    0    0    0    0    0    0    0    0    0    0    0    0\n",
      "    0    0]\n"
     ]
    }
   ],
   "source": [
    "# Pad Sequences (Sewell, Web6)\n",
    "print('Before padding:')\n",
    "print(sequences[0])\n",
    "print()\n",
    "\n",
    "X = pad_sequences(sequences, maxlen = max_length, padding='post')\n",
    "\n",
    "print('After padding:')\n",
    "print(X[0])"
   ]
  },
  {
   "cell_type": "code",
   "execution_count": 16,
   "id": "fe511022-f26b-463f-bbc9-f90670946af2",
   "metadata": {},
   "outputs": [],
   "source": [
    "y = df['Label'].values"
   ]
  },
  {
   "cell_type": "code",
   "execution_count": 17,
   "id": "eda45c04-8a8f-406e-98cb-95ccec1b2688",
   "metadata": {},
   "outputs": [
    {
     "name": "stdout",
     "output_type": "stream",
     "text": [
      "Original shape: (2748, 2)\n",
      "(2198, 492)\n",
      "(550, 492)\n",
      "(2198,)\n",
      "(550,)\n"
     ]
    }
   ],
   "source": [
    "# Split the data into training and testing sets\n",
    "X_train, X_test, y_train, y_test = train_test_split(X, y, test_size=0.2, random_state=42)\n",
    "print(f'Original shape: {df.shape}')\n",
    "print(X_train.shape)\n",
    "print(X_test.shape)\n",
    "print(y_train.shape)\n",
    "print(y_test.shape)"
   ]
  },
  {
   "cell_type": "code",
   "execution_count": 18,
   "id": "851352a2-4546-441d-86cc-e2ee6534fb22",
   "metadata": {},
   "outputs": [
    {
     "name": "stderr",
     "output_type": "stream",
     "text": [
      "C:\\Users\\drodgers\\AppData\\Local\\Programs\\Python\\Python312\\Lib\\site-packages\\keras\\src\\layers\\core\\embedding.py:90: UserWarning: Argument `input_length` is deprecated. Just remove it.\n",
      "  warnings.warn(\n"
     ]
    }
   ],
   "source": [
    "from tensorflow.keras.layers import Embedding, LSTM, Dense, Dropout, SpatialDropout1D\n",
    "from tensorflow.keras.callbacks import EarlyStopping\n",
    "\n",
    "\n",
    "embedding_vector_length = 32\n",
    "model = Sequential()\n",
    "model.add(Embedding(vocab_size, embedding_vector_length, input_length=max_length))\n",
    "model.add(SpatialDropout1D(0.25))\n",
    "model.add(LSTM(50, dropout=0.5, recurrent_dropout=0.5))\n",
    "model.add(Dropout(0.2))\n",
    "model.add(Dense(1, activation='sigmoid'))\n",
    "model.compile(loss='binary_crossentropy', optimizer='adam', metrics=['accuracy'])\n"
   ]
  },
  {
   "cell_type": "code",
   "execution_count": 19,
   "id": "5350a474-3e51-4f6e-afb2-398862118fd4",
   "metadata": {},
   "outputs": [
    {
     "data": {
      "text/html": [
       "<pre style=\"white-space:pre;overflow-x:auto;line-height:normal;font-family:Menlo,'DejaVu Sans Mono',consolas,'Courier New',monospace\"><span style=\"font-weight: bold\">Model: \"sequential\"</span>\n",
       "</pre>\n"
      ],
      "text/plain": [
       "\u001b[1mModel: \"sequential\"\u001b[0m\n"
      ]
     },
     "metadata": {},
     "output_type": "display_data"
    },
    {
     "data": {
      "text/html": [
       "<pre style=\"white-space:pre;overflow-x:auto;line-height:normal;font-family:Menlo,'DejaVu Sans Mono',consolas,'Courier New',monospace\">┏━━━━━━━━━━━━━━━━━━━━━━━━━━━━━━━━━━━━━━┳━━━━━━━━━━━━━━━━━━━━━━━━━━━━━┳━━━━━━━━━━━━━━━━━┓\n",
       "┃<span style=\"font-weight: bold\"> Layer (type)                         </span>┃<span style=\"font-weight: bold\"> Output Shape                </span>┃<span style=\"font-weight: bold\">         Param # </span>┃\n",
       "┡━━━━━━━━━━━━━━━━━━━━━━━━━━━━━━━━━━━━━━╇━━━━━━━━━━━━━━━━━━━━━━━━━━━━━╇━━━━━━━━━━━━━━━━━┩\n",
       "│ embedding (<span style=\"color: #0087ff; text-decoration-color: #0087ff\">Embedding</span>)                │ ?                           │     <span style=\"color: #00af00; text-decoration-color: #00af00\">0</span> (unbuilt) │\n",
       "├──────────────────────────────────────┼─────────────────────────────┼─────────────────┤\n",
       "│ spatial_dropout1d (<span style=\"color: #0087ff; text-decoration-color: #0087ff\">SpatialDropout1D</span>) │ ?                           │     <span style=\"color: #00af00; text-decoration-color: #00af00\">0</span> (unbuilt) │\n",
       "├──────────────────────────────────────┼─────────────────────────────┼─────────────────┤\n",
       "│ lstm (<span style=\"color: #0087ff; text-decoration-color: #0087ff\">LSTM</span>)                          │ ?                           │     <span style=\"color: #00af00; text-decoration-color: #00af00\">0</span> (unbuilt) │\n",
       "├──────────────────────────────────────┼─────────────────────────────┼─────────────────┤\n",
       "│ dropout (<span style=\"color: #0087ff; text-decoration-color: #0087ff\">Dropout</span>)                    │ ?                           │     <span style=\"color: #00af00; text-decoration-color: #00af00\">0</span> (unbuilt) │\n",
       "├──────────────────────────────────────┼─────────────────────────────┼─────────────────┤\n",
       "│ dense (<span style=\"color: #0087ff; text-decoration-color: #0087ff\">Dense</span>)                        │ ?                           │     <span style=\"color: #00af00; text-decoration-color: #00af00\">0</span> (unbuilt) │\n",
       "└──────────────────────────────────────┴─────────────────────────────┴─────────────────┘\n",
       "</pre>\n"
      ],
      "text/plain": [
       "┏━━━━━━━━━━━━━━━━━━━━━━━━━━━━━━━━━━━━━━┳━━━━━━━━━━━━━━━━━━━━━━━━━━━━━┳━━━━━━━━━━━━━━━━━┓\n",
       "┃\u001b[1m \u001b[0m\u001b[1mLayer (type)                        \u001b[0m\u001b[1m \u001b[0m┃\u001b[1m \u001b[0m\u001b[1mOutput Shape               \u001b[0m\u001b[1m \u001b[0m┃\u001b[1m \u001b[0m\u001b[1m        Param #\u001b[0m\u001b[1m \u001b[0m┃\n",
       "┡━━━━━━━━━━━━━━━━━━━━━━━━━━━━━━━━━━━━━━╇━━━━━━━━━━━━━━━━━━━━━━━━━━━━━╇━━━━━━━━━━━━━━━━━┩\n",
       "│ embedding (\u001b[38;5;33mEmbedding\u001b[0m)                │ ?                           │     \u001b[38;5;34m0\u001b[0m (unbuilt) │\n",
       "├──────────────────────────────────────┼─────────────────────────────┼─────────────────┤\n",
       "│ spatial_dropout1d (\u001b[38;5;33mSpatialDropout1D\u001b[0m) │ ?                           │     \u001b[38;5;34m0\u001b[0m (unbuilt) │\n",
       "├──────────────────────────────────────┼─────────────────────────────┼─────────────────┤\n",
       "│ lstm (\u001b[38;5;33mLSTM\u001b[0m)                          │ ?                           │     \u001b[38;5;34m0\u001b[0m (unbuilt) │\n",
       "├──────────────────────────────────────┼─────────────────────────────┼─────────────────┤\n",
       "│ dropout (\u001b[38;5;33mDropout\u001b[0m)                    │ ?                           │     \u001b[38;5;34m0\u001b[0m (unbuilt) │\n",
       "├──────────────────────────────────────┼─────────────────────────────┼─────────────────┤\n",
       "│ dense (\u001b[38;5;33mDense\u001b[0m)                        │ ?                           │     \u001b[38;5;34m0\u001b[0m (unbuilt) │\n",
       "└──────────────────────────────────────┴─────────────────────────────┴─────────────────┘\n"
      ]
     },
     "metadata": {},
     "output_type": "display_data"
    },
    {
     "data": {
      "text/html": [
       "<pre style=\"white-space:pre;overflow-x:auto;line-height:normal;font-family:Menlo,'DejaVu Sans Mono',consolas,'Courier New',monospace\"><span style=\"font-weight: bold\"> Total params: </span><span style=\"color: #00af00; text-decoration-color: #00af00\">0</span> (0.00 B)\n",
       "</pre>\n"
      ],
      "text/plain": [
       "\u001b[1m Total params: \u001b[0m\u001b[38;5;34m0\u001b[0m (0.00 B)\n"
      ]
     },
     "metadata": {},
     "output_type": "display_data"
    },
    {
     "data": {
      "text/html": [
       "<pre style=\"white-space:pre;overflow-x:auto;line-height:normal;font-family:Menlo,'DejaVu Sans Mono',consolas,'Courier New',monospace\"><span style=\"font-weight: bold\"> Trainable params: </span><span style=\"color: #00af00; text-decoration-color: #00af00\">0</span> (0.00 B)\n",
       "</pre>\n"
      ],
      "text/plain": [
       "\u001b[1m Trainable params: \u001b[0m\u001b[38;5;34m0\u001b[0m (0.00 B)\n"
      ]
     },
     "metadata": {},
     "output_type": "display_data"
    },
    {
     "data": {
      "text/html": [
       "<pre style=\"white-space:pre;overflow-x:auto;line-height:normal;font-family:Menlo,'DejaVu Sans Mono',consolas,'Courier New',monospace\"><span style=\"font-weight: bold\"> Non-trainable params: </span><span style=\"color: #00af00; text-decoration-color: #00af00\">0</span> (0.00 B)\n",
       "</pre>\n"
      ],
      "text/plain": [
       "\u001b[1m Non-trainable params: \u001b[0m\u001b[38;5;34m0\u001b[0m (0.00 B)\n"
      ]
     },
     "metadata": {},
     "output_type": "display_data"
    },
    {
     "name": "stdout",
     "output_type": "stream",
     "text": [
      "None\n"
     ]
    }
   ],
   "source": [
    "print(model.summary())"
   ]
  },
  {
   "cell_type": "code",
   "execution_count": 20,
   "id": "a89195df-080b-4c59-a81a-d5a217aa05b2",
   "metadata": {},
   "outputs": [
    {
     "name": "stdout",
     "output_type": "stream",
     "text": [
      "Epoch 1/50\n",
      "\u001b[1m55/55\u001b[0m \u001b[32m━━━━━━━━━━━━━━━━━━━━\u001b[0m\u001b[37m\u001b[0m \u001b[1m18s\u001b[0m 271ms/step - accuracy: 0.5012 - loss: 0.6945 - val_accuracy: 0.5068 - val_loss: 0.6932\n",
      "Epoch 2/50\n",
      "\u001b[1m55/55\u001b[0m \u001b[32m━━━━━━━━━━━━━━━━━━━━\u001b[0m\u001b[37m\u001b[0m \u001b[1m13s\u001b[0m 236ms/step - accuracy: 0.5086 - loss: 0.6937 - val_accuracy: 0.5091 - val_loss: 0.6931\n",
      "Epoch 3/50\n",
      "\u001b[1m55/55\u001b[0m \u001b[32m━━━━━━━━━━━━━━━━━━━━\u001b[0m\u001b[37m\u001b[0m \u001b[1m15s\u001b[0m 276ms/step - accuracy: 0.5177 - loss: 0.6932 - val_accuracy: 0.5068 - val_loss: 0.6931\n",
      "Epoch 4/50\n",
      "\u001b[1m55/55\u001b[0m \u001b[32m━━━━━━━━━━━━━━━━━━━━\u001b[0m\u001b[37m\u001b[0m \u001b[1m14s\u001b[0m 257ms/step - accuracy: 0.5114 - loss: 0.6938 - val_accuracy: 0.5068 - val_loss: 0.6930\n",
      "Epoch 5/50\n",
      "\u001b[1m55/55\u001b[0m \u001b[32m━━━━━━━━━━━━━━━━━━━━\u001b[0m\u001b[37m\u001b[0m \u001b[1m14s\u001b[0m 264ms/step - accuracy: 0.5095 - loss: 0.6941 - val_accuracy: 0.5068 - val_loss: 0.6939\n",
      "Epoch 6/50\n",
      "\u001b[1m55/55\u001b[0m \u001b[32m━━━━━━━━━━━━━━━━━━━━\u001b[0m\u001b[37m\u001b[0m \u001b[1m14s\u001b[0m 262ms/step - accuracy: 0.5123 - loss: 0.6950 - val_accuracy: 0.5068 - val_loss: 0.6931\n",
      "Epoch 7/50\n",
      "\u001b[1m55/55\u001b[0m \u001b[32m━━━━━━━━━━━━━━━━━━━━\u001b[0m\u001b[37m\u001b[0m \u001b[1m14s\u001b[0m 258ms/step - accuracy: 0.4455 - loss: 0.6961 - val_accuracy: 0.5068 - val_loss: 0.6936\n",
      "Epoch 8/50\n",
      "\u001b[1m55/55\u001b[0m \u001b[32m━━━━━━━━━━━━━━━━━━━━\u001b[0m\u001b[37m\u001b[0m \u001b[1m14s\u001b[0m 259ms/step - accuracy: 0.5058 - loss: 0.6937 - val_accuracy: 0.5068 - val_loss: 0.6933\n",
      "Epoch 9/50\n",
      "\u001b[1m55/55\u001b[0m \u001b[32m━━━━━━━━━━━━━━━━━━━━\u001b[0m\u001b[37m\u001b[0m \u001b[1m14s\u001b[0m 258ms/step - accuracy: 0.5120 - loss: 0.6940 - val_accuracy: 0.5068 - val_loss: 0.6931\n"
     ]
    }
   ],
   "source": [
    "# Define early stopping callback\n",
    "early_stopping = EarlyStopping(monitor='val_loss', patience=5, restore_best_weights=True)\n",
    "\n",
    "# Train the model with early stopping\n",
    "history = model.fit(X_train, y_train, epochs=50, batch_size=32, validation_split=0.2, callbacks=[early_stopping])"
   ]
  },
  {
   "cell_type": "code",
   "execution_count": null,
   "id": "c16d06ba-47ca-4dcb-87d4-29d6542cc604",
   "metadata": {},
   "outputs": [],
   "source": []
  },
  {
   "cell_type": "code",
   "execution_count": 21,
   "id": "1f56d55a-ccc7-4cce-b0c0-4965b76f4b11",
   "metadata": {},
   "outputs": [],
   "source": [
    "# from tensorflow.keras.layers import Embedding, LSTM, Dense, Dropout\n",
    "# from tensorflow.keras.callbacks import EarlyStopping\n",
    "\n",
    "\n",
    "\n",
    "# # Build the model with additional layers\n",
    "# model = Sequential()\n",
    "# model.add(Embedding(input_dim=50000, output_dim=128, input_length=max_length))\n",
    "# model.add(LSTM(units=128, return_sequences=True))  # Return sequences to feed into the next LSTM layer\n",
    "# model.add(LSTM(units=128))\n",
    "# model.add(Dense(units=64, activation='relu'))  # Add a Dense layer with ReLU activation\n",
    "# #model.add(Dropout(0.5))  # Add Dropout for regularization\n",
    "# model.add(Dense(units=1, activation='sigmoid'))  # Use sigmoid activation for binary classification\n",
    "\n",
    "# # Compile the model\n",
    "# model.compile(loss='binary_crossentropy', optimizer='adam', metrics=['accuracy'])\n",
    "\n",
    "# # Define early stopping callback\n",
    "# early_stopping = EarlyStopping(monitor='val_loss', patience=5, restore_best_weights=True)\n",
    "\n",
    "# # Train the model with early stopping\n",
    "# model.fit(X_train, y_train, epochs=50, batch_size=32, validation_split=0.2, callbacks=[early_stopping])\n",
    "\n",
    "# # Evaluate the model\n",
    "# loss, accuracy = model.evaluate(X_test, y_test)\n",
    "# print(f'Test Accuracy: {accuracy}')"
   ]
  },
  {
   "cell_type": "code",
   "execution_count": null,
   "id": "6b6730a3-ba5a-4d97-ab59-8d9fd6f74f71",
   "metadata": {},
   "outputs": [],
   "source": []
  }
 ],
 "metadata": {
  "kernelspec": {
   "display_name": "Python 3 (ipykernel)",
   "language": "python",
   "name": "python3"
  },
  "language_info": {
   "codemirror_mode": {
    "name": "ipython",
    "version": 3
   },
   "file_extension": ".py",
   "mimetype": "text/x-python",
   "name": "python",
   "nbconvert_exporter": "python",
   "pygments_lexer": "ipython3",
   "version": "3.12.4"
  }
 },
 "nbformat": 4,
 "nbformat_minor": 5
}
