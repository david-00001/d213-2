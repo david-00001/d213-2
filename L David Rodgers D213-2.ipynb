{
 "cells": [
  {
   "cell_type": "code",
   "execution_count": 1,
   "id": "2e08d430-42aa-47d7-bc9f-7b0f11a8599e",
   "metadata": {},
   "outputs": [],
   "source": [
    "# Import packages\n",
    "import pandas as pd\n",
    "import matplotlib.pyplot as plt\n",
    "import tensorflow.keras\n",
    "from tensorflow.keras.models import Sequential\n",
    "from nltk.tokenize import word_tokenize\n",
    "from nltk.corpus import stopwords\n",
    "import re\n",
    "import nltk\n",
    "from nltk.stem import WordNetLemmatizer"
   ]
  },
  {
   "cell_type": "code",
   "execution_count": 2,
   "id": "0a609f91-fdea-4598-88af-11090c238da5",
   "metadata": {},
   "outputs": [
    {
     "name": "stdout",
     "output_type": "stream",
     "text": [
      "Amazon shape: (1000, 2)\n",
      "IMDB shape: (748, 2)\n",
      "Yelp shape: (1000, 2)\n"
     ]
    }
   ],
   "source": [
    "# Specify column names\n",
    "column_names = ['Review', 'Label']\n",
    "\n",
    "# Read in txt files and set column headers\n",
    "amazon = pd.read_csv('amazon_cells_labelled.txt', delimiter='\\t', header=None, names=column_names)\n",
    "print(f'Amazon shape: {amazon.shape}')\n",
    "imdb = pd.read_csv('imdb_labelled.txt', delimiter='\\t', header=None, names=column_names)\n",
    "print(f'IMDB shape: {imdb.shape}')\n",
    "yelp = pd.read_csv('yelp_labelled.txt', delimiter='\\t', header=None, names=column_names)\n",
    "print(f'Yelp shape: {yelp.shape}')"
   ]
  },
  {
   "cell_type": "code",
   "execution_count": 3,
   "id": "a24a61d0-3070-48ce-a5cd-46092cfacbb3",
   "metadata": {},
   "outputs": [],
   "source": [
    "# Concatenate the three dataframes together\n",
    "df = pd.concat([amazon, imdb, yelp], ignore_index=True)"
   ]
  },
  {
   "cell_type": "code",
   "execution_count": 4,
   "id": "6a80b1a5-663f-4562-97e2-73f7123cc08c",
   "metadata": {},
   "outputs": [
    {
     "name": "stdout",
     "output_type": "stream",
     "text": [
      "<class 'pandas.core.frame.DataFrame'>\n",
      "RangeIndex: 2748 entries, 0 to 2747\n",
      "Data columns (total 2 columns):\n",
      " #   Column  Non-Null Count  Dtype \n",
      "---  ------  --------------  ----- \n",
      " 0   Review  2748 non-null   object\n",
      " 1   Label   2748 non-null   int64 \n",
      "dtypes: int64(1), object(1)\n",
      "memory usage: 43.1+ KB\n"
     ]
    }
   ],
   "source": [
    "# Check for null values\n",
    "df.info()"
   ]
  },
  {
   "cell_type": "code",
   "execution_count": 5,
   "id": "014de3d6-d543-4132-9168-eaf62a4e934d",
   "metadata": {
    "scrolled": true
   },
   "outputs": [
    {
     "data": {
      "text/plain": [
       "Label\n",
       "1    1386\n",
       "0    1362\n",
       "Name: count, dtype: int64"
      ]
     },
     "execution_count": 5,
     "metadata": {},
     "output_type": "execute_result"
    }
   ],
   "source": [
    "# Check Label to make sure values look appropriate\n",
    "df['Label'].value_counts()"
   ]
  },
  {
   "cell_type": "code",
   "execution_count": 6,
   "id": "3cec282d-80db-419d-a692-ab76cb67aa26",
   "metadata": {},
   "outputs": [
    {
     "name": "stdout",
     "output_type": "stream",
     "text": [
      "Before applying lowercase: So there is no way for me to plug it in here in the US unless I go by a converter.\n",
      "After applying lowercase: so there is no way for me to plug it in here in the us unless i go by a converter.\n"
     ]
    }
   ],
   "source": [
    "# Set 'Review' to lowercase\n",
    "print(f'Before applying lowercase: {df['Review'].iloc[0]}')\n",
    "df['Review'] = df['Review'].str.lower()\n",
    "print(f'After applying lowercase: {df['Review'].iloc[0]}')"
   ]
  },
  {
   "cell_type": "code",
   "execution_count": 7,
   "id": "3788ca97-598b-419e-86ac-f57282d92d24",
   "metadata": {},
   "outputs": [
    {
     "name": "stdout",
     "output_type": "stream",
     "text": [
      "Before removing punctuation: so there is no way for me to plug it in here in the us unless i go by a converter.\n",
      "After removing punctuation: so there is no way for me to plug it in here in the us unless i go by a converter\n"
     ]
    }
   ],
   "source": [
    "# Remove punctuation\n",
    "pattern = re.compile(r'[^\\w\\s]')\n",
    "\n",
    "print(f'Before removing punctuation: {df['Review'].iloc[0]}')\n",
    "df['Review'] = df['Review'].apply(lambda x: pattern.sub('', x))\n",
    "print(f'After removing punctuation: {df['Review'].iloc[0]}')"
   ]
  },
  {
   "cell_type": "markdown",
   "id": "cfd4000d-6202-4b50-9be8-fba1ba7d44f6",
   "metadata": {},
   "source": [
    "# Preprocess Text with NTLK"
   ]
  },
  {
   "cell_type": "code",
   "execution_count": 8,
   "id": "76da9b29-983b-48eb-9b2e-9976f4840de0",
   "metadata": {},
   "outputs": [
    {
     "name": "stderr",
     "output_type": "stream",
     "text": [
      "[nltk_data] Downloading package punkt to\n",
      "[nltk_data]     C:\\Users\\David\\AppData\\Roaming\\nltk_data...\n",
      "[nltk_data]   Package punkt is already up-to-date!\n",
      "[nltk_data] Downloading package stopwords to\n",
      "[nltk_data]     C:\\Users\\David\\AppData\\Roaming\\nltk_data...\n",
      "[nltk_data]   Package stopwords is already up-to-date!\n",
      "[nltk_data] Downloading package wordnet to\n",
      "[nltk_data]     C:\\Users\\David\\AppData\\Roaming\\nltk_data...\n",
      "[nltk_data]   Package wordnet is already up-to-date!\n",
      "[nltk_data] Downloading package omw-1.4 to\n",
      "[nltk_data]     C:\\Users\\David\\AppData\\Roaming\\nltk_data...\n",
      "[nltk_data]   Package omw-1.4 is already up-to-date!\n"
     ]
    },
    {
     "data": {
      "text/plain": [
       "True"
      ]
     },
     "execution_count": 8,
     "metadata": {},
     "output_type": "execute_result"
    }
   ],
   "source": [
    "# Items needed for NLTK\n",
    "\n",
    "# Needed for Tokenization\n",
    "nltk.download('punkt')\n",
    "\n",
    "# Needed for Stopwords\n",
    "nltk.download('stopwords')\n",
    "\n",
    "# Needed for Lemmatization\n",
    "nltk.download('wordnet')\n",
    "nltk.download('omw-1.4')"
   ]
  },
  {
   "cell_type": "code",
   "execution_count": 9,
   "id": "37f14648-2d6d-4997-aec9-205d3f1cc04b",
   "metadata": {},
   "outputs": [
    {
     "name": "stdout",
     "output_type": "stream",
     "text": [
      "Before Tokenization: so there is no way for me to plug it in here in the us unless i go by a converter\n",
      "After Tokenization: ['so', 'there', 'is', 'no', 'way', 'for', 'me', 'to', 'plug', 'it', 'in', 'here', 'in', 'the', 'us', 'unless', 'i', 'go', 'by', 'a', 'converter']\n"
     ]
    }
   ],
   "source": [
    "#https://www.geeksforgeeks.org/removing-stop-words-nltk-python/\n",
    "\n",
    "# Create Tokenization function\n",
    "def tokenize_text(text):\n",
    "    if pd.notnull(text):\n",
    "        tokens = word_tokenize(text)\n",
    "        return tokens\n",
    "    else:\n",
    "        return []\n",
    "\n",
    "# Apply Tokenization function\n",
    "print(f'Before Tokenization: {df['Review'].iloc[0]}')\n",
    "df['Review'] = df['Review'].apply(tokenize_text)\n",
    "print(f'After Tokenization: {df['Review'].iloc[0]}')"
   ]
  },
  {
   "cell_type": "code",
   "execution_count": null,
   "id": "d9cd9830-5bb9-4569-93f9-30026c73eee8",
   "metadata": {},
   "outputs": [],
   "source": []
  },
  {
   "cell_type": "code",
   "execution_count": 10,
   "id": "18d0d713-4733-4d65-80dc-0a680fa6d0e3",
   "metadata": {},
   "outputs": [
    {
     "name": "stdout",
     "output_type": "stream",
     "text": [
      "Before Stopwords: ['so', 'there', 'is', 'no', 'way', 'for', 'me', 'to', 'plug', 'it', 'in', 'here', 'in', 'the', 'us', 'unless', 'i', 'go', 'by', 'a', 'converter']\n",
      "After Stopwords: ['way', 'plug', 'us', 'unless', 'go', 'converter']\n"
     ]
    }
   ],
   "source": [
    "\n",
    "\n",
    "stop_words = set(stopwords.words('english'))\n",
    "\n",
    "# Create Stopwords function\n",
    "def remove_stopwords(tokens):\n",
    "    return [word for word in tokens if word not in stop_words]\n",
    "\n",
    "# Apply Stopwords function\n",
    "print(f'Before Stopwords: {df['Review'].iloc[0]}')\n",
    "df['Review'] = df['Review'].apply(remove_stopwords)\n",
    "print(f'After Stopwords: {df['Review'].iloc[0]}')"
   ]
  },
  {
   "cell_type": "code",
   "execution_count": null,
   "id": "f888fe50-10e9-4536-b1ce-2f7d2dbd824b",
   "metadata": {},
   "outputs": [],
   "source": []
  },
  {
   "cell_type": "code",
   "execution_count": 11,
   "id": "42b83143-2ffd-4736-9942-53617bab0454",
   "metadata": {},
   "outputs": [
    {
     "name": "stdout",
     "output_type": "stream",
     "text": [
      "Before Lemmatization: ['way', 'plug', 'us', 'unless', 'go', 'converter']\n",
      "After Lemmatization: ['way', 'plug', 'u', 'unless', 'go', 'converter']\n"
     ]
    }
   ],
   "source": [
    "\n",
    "\n",
    "# Initialize the lemmatizer\n",
    "lemmatizer = WordNetLemmatizer()\n",
    "\n",
    "# Create Lemmatization function\n",
    "def lemmatize_tokens(tokens):\n",
    "    return [lemmatizer.lemmatize(word) for word in tokens]\n",
    "\n",
    "# Apply Lemmatization function\n",
    "print(f'Before Lemmatization: {df['Review'].iloc[0]}')\n",
    "df['Review'] = df['Review'].apply(lemmatize_tokens)\n",
    "print(f'After Lemmatization: {df['Review'].iloc[0]}')"
   ]
  },
  {
   "cell_type": "code",
   "execution_count": null,
   "id": "39d13420-20e4-425b-81a1-da754d77e501",
   "metadata": {},
   "outputs": [],
   "source": []
  }
 ],
 "metadata": {
  "kernelspec": {
   "display_name": "Python 3 (ipykernel)",
   "language": "python",
   "name": "python3"
  },
  "language_info": {
   "codemirror_mode": {
    "name": "ipython",
    "version": 3
   },
   "file_extension": ".py",
   "mimetype": "text/x-python",
   "name": "python",
   "nbconvert_exporter": "python",
   "pygments_lexer": "ipython3",
   "version": "3.12.4"
  }
 },
 "nbformat": 4,
 "nbformat_minor": 5
}
