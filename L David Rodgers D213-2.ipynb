{
 "cells": [
  {
   "cell_type": "code",
   "execution_count": 1,
   "id": "2e08d430-42aa-47d7-bc9f-7b0f11a8599e",
   "metadata": {},
   "outputs": [],
   "source": [
    "# Import packages\n",
    "# Packages used for preparing data\n",
    "import pandas as pd\n",
    "import numpy as np\n",
    "import matplotlib.pyplot as plt\n",
    "from nltk.tokenize import word_tokenize # Used for Tokenization\n",
    "from nltk.corpus import stopwords # Used for stopwords\n",
    "import re # Used for Regular Expression\n",
    "import nltk # Natural language toolkit containing necessary packages\n",
    "from tensorflow.keras.preprocessing.text import Tokenizer # Used for Tokenization\n",
    "from nltk.stem import PorterStemmer # Used for Stemming\n",
    "from tensorflow.keras.preprocessing.sequence import pad_sequences # Used for padding\n",
    "from sklearn.model_selection import train_test_split # Used for splitting the data\n",
    "\n",
    "# TensorFlow packages used for Neural Network\n",
    "import tensorflow.keras\n",
    "from tensorflow.keras.layers import Embedding, LSTM, Dense, Dropout, SpatialDropout1D, Bidirectional, BatchNormalization\n",
    "from tensorflow.keras.callbacks import EarlyStopping\n",
    "from tensorflow.keras.models import Sequential\n",
    "from tensorflow.keras.regularizers import l2"
   ]
  },
  {
   "cell_type": "code",
   "execution_count": 2,
   "id": "0a609f91-fdea-4598-88af-11090c238da5",
   "metadata": {},
   "outputs": [
    {
     "name": "stdout",
     "output_type": "stream",
     "text": [
      "Amazon shape: (1000, 2)\n",
      "IMDB shape: (748, 2)\n",
      "Yelp shape: (1000, 2)\n"
     ]
    }
   ],
   "source": [
    "# Specify column names\n",
    "column_names = ['Review', 'Label']\n",
    "\n",
    "# Read in txt files and set column headers\n",
    "amazon = pd.read_csv('amazon_cells_labelled.txt', delimiter='\\t', header=None, names=column_names)\n",
    "print(f'Amazon shape: {amazon.shape}')\n",
    "imdb = pd.read_csv('imdb_labelled.txt', delimiter='\\t', header=None, names=column_names)\n",
    "print(f'IMDB shape: {imdb.shape}')\n",
    "yelp = pd.read_csv('yelp_labelled.txt', delimiter='\\t', header=None, names=column_names)\n",
    "print(f'Yelp shape: {yelp.shape}')"
   ]
  },
  {
   "cell_type": "code",
   "execution_count": 3,
   "id": "a24a61d0-3070-48ce-a5cd-46092cfacbb3",
   "metadata": {},
   "outputs": [],
   "source": [
    "# Concatenate the three dataframes together\n",
    "df = pd.concat([amazon, imdb, yelp], ignore_index=True)"
   ]
  },
  {
   "cell_type": "code",
   "execution_count": 4,
   "id": "6a80b1a5-663f-4562-97e2-73f7123cc08c",
   "metadata": {},
   "outputs": [
    {
     "name": "stdout",
     "output_type": "stream",
     "text": [
      "<class 'pandas.core.frame.DataFrame'>\n",
      "RangeIndex: 2748 entries, 0 to 2747\n",
      "Data columns (total 2 columns):\n",
      " #   Column  Non-Null Count  Dtype \n",
      "---  ------  --------------  ----- \n",
      " 0   Review  2748 non-null   object\n",
      " 1   Label   2748 non-null   int64 \n",
      "dtypes: int64(1), object(1)\n",
      "memory usage: 43.1+ KB\n"
     ]
    }
   ],
   "source": [
    "# Check for null values\n",
    "df.info()"
   ]
  },
  {
   "cell_type": "code",
   "execution_count": 5,
   "id": "014de3d6-d543-4132-9168-eaf62a4e934d",
   "metadata": {
    "scrolled": true
   },
   "outputs": [
    {
     "data": {
      "text/plain": [
       "Label\n",
       "1    1386\n",
       "0    1362\n",
       "Name: count, dtype: int64"
      ]
     },
     "execution_count": 5,
     "metadata": {},
     "output_type": "execute_result"
    }
   ],
   "source": [
    "# Check Label to make sure values look appropriate\n",
    "df['Label'].value_counts(dropna=False)"
   ]
  },
  {
   "cell_type": "markdown",
   "id": "8b497691-e4f4-469e-bbf6-d62a0449768e",
   "metadata": {},
   "source": [
    "# Applying Lowercase and Remove Punctuation"
   ]
  },
  {
   "cell_type": "code",
   "execution_count": 6,
   "id": "762a5f32-73a6-4292-954c-3c20c1b3c334",
   "metadata": {},
   "outputs": [
    {
     "data": {
      "text/html": [
       "<div>\n",
       "<style scoped>\n",
       "    .dataframe tbody tr th:only-of-type {\n",
       "        vertical-align: middle;\n",
       "    }\n",
       "\n",
       "    .dataframe tbody tr th {\n",
       "        vertical-align: top;\n",
       "    }\n",
       "\n",
       "    .dataframe thead th {\n",
       "        text-align: right;\n",
       "    }\n",
       "</style>\n",
       "<table border=\"1\" class=\"dataframe\">\n",
       "  <thead>\n",
       "    <tr style=\"text-align: right;\">\n",
       "      <th></th>\n",
       "      <th>Review</th>\n",
       "      <th>Label</th>\n",
       "    </tr>\n",
       "  </thead>\n",
       "  <tbody>\n",
       "    <tr>\n",
       "      <th>12</th>\n",
       "      <td>If the two were seperated by a mere 5+ ft I st...</td>\n",
       "      <td>0</td>\n",
       "    </tr>\n",
       "    <tr>\n",
       "      <th>25</th>\n",
       "      <td>Great Pocket PC / phone combination.</td>\n",
       "      <td>1</td>\n",
       "    </tr>\n",
       "    <tr>\n",
       "      <th>132</th>\n",
       "      <td>Headset works great &amp; was packaged nicely to a...</td>\n",
       "      <td>1</td>\n",
       "    </tr>\n",
       "    <tr>\n",
       "      <th>154</th>\n",
       "      <td>I've bought $5 wired headphones that sound bet...</td>\n",
       "      <td>0</td>\n",
       "    </tr>\n",
       "    <tr>\n",
       "      <th>156</th>\n",
       "      <td>Nice quality build, unlike some cheap s*** out...</td>\n",
       "      <td>1</td>\n",
       "    </tr>\n",
       "    <tr>\n",
       "      <th>...</th>\n",
       "      <td>...</td>\n",
       "      <td>...</td>\n",
       "    </tr>\n",
       "    <tr>\n",
       "      <th>2626</th>\n",
       "      <td>I love the owner/chef, his one authentic Japan...</td>\n",
       "      <td>1</td>\n",
       "    </tr>\n",
       "    <tr>\n",
       "      <th>2663</th>\n",
       "      <td>The only thing I wasn't too crazy about was th...</td>\n",
       "      <td>0</td>\n",
       "    </tr>\n",
       "    <tr>\n",
       "      <th>2684</th>\n",
       "      <td>The sangria was about half of a glass wine ful...</td>\n",
       "      <td>0</td>\n",
       "    </tr>\n",
       "    <tr>\n",
       "      <th>2733</th>\n",
       "      <td>The problem I have is that they charge $11.99 ...</td>\n",
       "      <td>0</td>\n",
       "    </tr>\n",
       "    <tr>\n",
       "      <th>2734</th>\n",
       "      <td>Shrimp- When I unwrapped it (I live only 1/2 a...</td>\n",
       "      <td>0</td>\n",
       "    </tr>\n",
       "  </tbody>\n",
       "</table>\n",
       "<p>101 rows × 2 columns</p>\n",
       "</div>"
      ],
      "text/plain": [
       "                                                 Review  Label\n",
       "12    If the two were seperated by a mere 5+ ft I st...      0\n",
       "25                 Great Pocket PC / phone combination.      1\n",
       "132   Headset works great & was packaged nicely to a...      1\n",
       "154   I've bought $5 wired headphones that sound bet...      0\n",
       "156   Nice quality build, unlike some cheap s*** out...      1\n",
       "...                                                 ...    ...\n",
       "2626  I love the owner/chef, his one authentic Japan...      1\n",
       "2663  The only thing I wasn't too crazy about was th...      0\n",
       "2684  The sangria was about half of a glass wine ful...      0\n",
       "2733  The problem I have is that they charge $11.99 ...      0\n",
       "2734  Shrimp- When I unwrapped it (I live only 1/2 a...      0\n",
       "\n",
       "[101 rows x 2 columns]"
      ]
     },
     "execution_count": 6,
     "metadata": {},
     "output_type": "execute_result"
    }
   ],
   "source": [
    "# Using Regex to search for special characters (Python, 2024)\n",
    "# Regex pattern for special characters excluding punctuation\n",
    "pattern = r'[^A-Za-z0-9\\s\\.,!?;:\\-\\'\\\"()]'\n",
    "\n",
    "# Search using Regex pattern\n",
    "mask = df['Review'].str.contains(pattern, regex=True)\n",
    "\n",
    "# Filter using mask to show rows with special characters\n",
    "special_char_rows = df[mask]\n",
    "special_char_rows"
   ]
  },
  {
   "cell_type": "code",
   "execution_count": 7,
   "id": "3cec282d-80db-419d-a692-ab76cb67aa26",
   "metadata": {},
   "outputs": [
    {
     "name": "stdout",
     "output_type": "stream",
     "text": [
      "Before any preprocessing:\n",
      "If the two were seperated by a mere 5+ ft I started to notice excessive static and garbled sound from the headset.\n",
      "\n",
      "After applying lowercase:\n",
      "if the two were seperated by a mere 5+ ft i started to notice excessive static and garbled sound from the headset.\n",
      "\n",
      "After removing punctuation:\n",
      "if the two were seperated by a mere 5 ft i started to notice excessive static and garbled sound from the headset\n"
     ]
    }
   ],
   "source": [
    "print('Before any preprocessing:')\n",
    "print(df['Review'].iloc[12])\n",
    "print()\n",
    "\n",
    "# Set 'Review' to lowercase\n",
    "df['Review'] = df['Review'].str.lower()\n",
    "\n",
    "print('After applying lowercase:')\n",
    "print(df['Review'].iloc[12])\n",
    "print()\n",
    "\n",
    "# Remove special characters and punctuation (Python, 2024)\n",
    "pattern = r'[^\\w\\s]'\n",
    "df['Review'] = df['Review'].str.replace(pattern, '', regex=True)\n",
    "\n",
    "print('After removing punctuation:')\n",
    "print(df['Review'].iloc[12])"
   ]
  },
  {
   "cell_type": "markdown",
   "id": "cfd4000d-6202-4b50-9be8-fba1ba7d44f6",
   "metadata": {},
   "source": [
    "# Tokenization and Stop words"
   ]
  },
  {
   "cell_type": "code",
   "execution_count": 8,
   "id": "b8f29af5-f47b-4214-a433-8ae21cfe36dd",
   "metadata": {},
   "outputs": [
    {
     "name": "stdout",
     "output_type": "stream",
     "text": [
      "Before tokenizing and applying stopwords:\n",
      "if the two were seperated by a mere 5 ft i started to notice excessive static and garbled sound from the headset\n",
      "\n",
      "After tokenizing and applying stopwords:\n",
      "['two', 'seperated', 'mere', '5', 'ft', 'started', 'notice', 'excessive', 'static', 'garbled', 'sound', 'headset']\n"
     ]
    },
    {
     "name": "stderr",
     "output_type": "stream",
     "text": [
      "[nltk_data] Downloading package stopwords to\n",
      "[nltk_data]     C:\\Users\\David\\AppData\\Roaming\\nltk_data...\n",
      "[nltk_data]   Package stopwords is already up-to-date!\n",
      "[nltk_data] Downloading package punkt to\n",
      "[nltk_data]     C:\\Users\\David\\AppData\\Roaming\\nltk_data...\n",
      "[nltk_data]   Package punkt is already up-to-date!\n"
     ]
    }
   ],
   "source": [
    "# Apply Tokenization and remove stop words (Sewell, Web6)\n",
    "\n",
    "# Download NLTK resources\n",
    "nltk.download('stopwords')\n",
    "nltk.download('punkt')\n",
    "\n",
    "\n",
    "print('Before tokenizing and applying stopwords:')\n",
    "print(df['Review'].iloc[12])\n",
    "print()\n",
    "\n",
    "# Download stop word list\n",
    "stop_words = set(stopwords.words('english'))\n",
    "\n",
    "# Create empty list\n",
    "data_set = []\n",
    "\n",
    "# Tokenize and remove stop words\n",
    "for sentence in df['Review']:\n",
    "    data_set.append([word for word in word_tokenize(sentence) if word not in stop_words])\n",
    "\n",
    "# Assign list back to dataframe\n",
    "df['Review'] = data_set\n",
    "\n",
    "print('After tokenizing and applying stopwords:')\n",
    "print(df['Review'].iloc[12])"
   ]
  },
  {
   "cell_type": "markdown",
   "id": "6fccfaaf-bd26-48cb-9345-363810fecafe",
   "metadata": {},
   "source": [
    "# Apply Stemming"
   ]
  },
  {
   "cell_type": "code",
   "execution_count": 9,
   "id": "8d18ff1c-eecd-41a9-a948-d674f8293a28",
   "metadata": {},
   "outputs": [
    {
     "name": "stdout",
     "output_type": "stream",
     "text": [
      "Before Stemming:\n",
      "['two', 'seperated', 'mere', '5', 'ft', 'started', 'notice', 'excessive', 'static', 'garbled', 'sound', 'headset']\n",
      "\n",
      "After Stemming:\n",
      "['two', 'seper', 'mere', '5', 'ft', 'start', 'notic', 'excess', 'static', 'garbl', 'sound', 'headset']\n"
     ]
    }
   ],
   "source": [
    "# Apply Stemming (GeeksforGeeks, 2023)\n",
    "\n",
    "print('Before Stemming:')\n",
    "print(df['Review'].iloc[12])\n",
    "print()\n",
    "\n",
    "# Initialize PorterStemmer object\n",
    "stemmer = PorterStemmer()\n",
    "\n",
    "# Create a function to stem tokenized text\n",
    "def stem_tokens(token_list):\n",
    "    return [stemmer.stem(word) for word in token_list]\n",
    "\n",
    "# Apply the function\n",
    "df['Review'] = df['Review'].apply(stem_tokens)\n",
    "\n",
    "print('After Stemming:')\n",
    "print(df['Review'].iloc[12])"
   ]
  },
  {
   "cell_type": "markdown",
   "id": "eee42baf-345a-4fe0-a335-f0e9c65a8fd1",
   "metadata": {},
   "source": [
    "# Determine Vocabulary Size and Vectorization"
   ]
  },
  {
   "cell_type": "code",
   "execution_count": 10,
   "id": "12b5c853-c86e-44f4-b4e5-3fdf55a76c9f",
   "metadata": {},
   "outputs": [
    {
     "name": "stdout",
     "output_type": "stream",
     "text": [
      "Before vectorizing for model:\n",
      "['two', 'seper', 'mere', '5', 'ft', 'start', 'notic', 'excess', 'static', 'garbl', 'sound', 'headset']\n",
      "\n",
      "After vectorizing for model:\n",
      "[75, 1261, 1844, 231, 1845, 187, 763, 1262, 970, 1846, 41, 40]\n",
      "\n"
     ]
    }
   ],
   "source": [
    "# Vectorization (Sewell, Web6)\n",
    "print('Before vectorizing for model:')\n",
    "print(df['Review'].iloc[12])\n",
    "print()\n",
    "\n",
    "tokenizer = Tokenizer()\n",
    "tokenizer.fit_on_texts(df['Review'])\n",
    "sequences = tokenizer.texts_to_sequences(df['Review'])\n",
    "\n",
    "print('After vectorizing for model:')\n",
    "print(sequences[12])\n",
    "print()"
   ]
  },
  {
   "cell_type": "code",
   "execution_count": 11,
   "id": "af584109-cbc3-41da-825d-ab3d17e9ceba",
   "metadata": {},
   "outputs": [
    {
     "name": "stdout",
     "output_type": "stream",
     "text": [
      "Vocabulary Size: 4177\n"
     ]
    }
   ],
   "source": [
    "# Get the word index and word counts\n",
    "word_index = tokenizer.word_index\n",
    "\n",
    "# The vocabulary size is the length of the word_index\n",
    "vocab_size = len(word_index) + 1\n",
    "print(f'Vocabulary Size: {vocab_size}')"
   ]
  },
  {
   "cell_type": "markdown",
   "id": "fd3e4c5b-66ab-4a6e-a6f1-9421bc19568f",
   "metadata": {},
   "source": [
    "# Determine Max Length For Padding"
   ]
  },
  {
   "cell_type": "code",
   "execution_count": 12,
   "id": "911b0ec1-2c34-4ecd-951f-dca9d8e34114",
   "metadata": {},
   "outputs": [
    {
     "name": "stdout",
     "output_type": "stream",
     "text": [
      "count    2748.000000\n",
      "mean        6.857715\n",
      "std        20.398946\n",
      "min         1.000000\n",
      "25%         3.000000\n",
      "50%         5.000000\n",
      "75%         8.000000\n",
      "max       789.000000\n",
      "dtype: float64\n"
     ]
    },
    {
     "data": {
      "image/png": "[encoded data removed]",
      "text/plain": [
       "<Figure size 640x480 with 1 Axes>"
      ]
     },
     "metadata": {},
     "output_type": "display_data"
    }
   ],
   "source": [
    "# Calculate the lengths of the sequences\n",
    "lengths = [len(seq) for seq in sequences]\n",
    "\n",
    "# Describe the lengths\n",
    "lengths_series = pd.Series(lengths)\n",
    "print(lengths_series.describe())\n",
    "\n",
    "# Plot the distribution of sequence lengths\n",
    "plt.hist(lengths, bins=100, log=True)\n",
    "plt.xlabel('Sequence Length')\n",
    "plt.ylabel('Frequency (Log Scale)')\n",
    "plt.title('Distribution of Sequence Lengths (Log Scale)')\n",
    "plt.show()"
   ]
  },
  {
   "cell_type": "code",
   "execution_count": 13,
   "id": "c1bf8f4e-16e6-47fe-b6b9-a4636c2707f7",
   "metadata": {},
   "outputs": [
    {
     "name": "stdout",
     "output_type": "stream",
     "text": [
      "Max Sequence Length at 95th Percentile: 14\n"
     ]
    }
   ],
   "source": [
    "# Calculate the max_length using the 95th percentile\n",
    "max_length = int(np.percentile(lengths, 95))\n",
    "print(f'Max Sequence Length at 95th Percentile: {max_length}')"
   ]
  },
  {
   "cell_type": "markdown",
   "id": "5584d627-3bc4-4820-8a34-0952c49a9306",
   "metadata": {},
   "source": [
    "# Apply Padding"
   ]
  },
  {
   "cell_type": "code",
   "execution_count": 14,
   "id": "18fbfc43-dcbc-4e96-b0aa-d81b45f8e883",
   "metadata": {},
   "outputs": [
    {
     "name": "stdout",
     "output_type": "stream",
     "text": [
      "Before padding:\n",
      "[52, 230, 120, 566, 17, 1839]\n",
      "\n",
      "After padding:\n",
      "[  52  230  120  566   17 1839    0    0    0    0    0    0    0    0]\n"
     ]
    }
   ],
   "source": [
    "# Pad Sequences (Sewell, Web6)\n",
    "print('Before padding:')\n",
    "print(sequences[0])\n",
    "print()\n",
    "\n",
    "X = pad_sequences(sequences, maxlen = max_length, padding='post')\n",
    "\n",
    "print('After padding:')\n",
    "print(X[0])"
   ]
  },
  {
   "cell_type": "markdown",
   "id": "fd293992-0d0c-4be5-9cd3-df184afb86be",
   "metadata": {},
   "source": [
    "# Define Labels and Split Data"
   ]
  },
  {
   "cell_type": "code",
   "execution_count": 15,
   "id": "fe511022-f26b-463f-bbc9-f90670946af2",
   "metadata": {},
   "outputs": [],
   "source": [
    "y = df['Label'].values"
   ]
  },
  {
   "cell_type": "code",
   "execution_count": 16,
   "id": "eda45c04-8a8f-406e-98cb-95ccec1b2688",
   "metadata": {},
   "outputs": [],
   "source": [
    "# Split the data into training and testing sets\n",
    "X_train, X_test, y_train, y_test = train_test_split(X, y, test_size=0.2, random_state=42)\n",
    "np.savetxt('X_train.csv', X_train, delimiter=',')\n",
    "np.savetxt('y_train.csv', y_train, delimiter=',')\n",
    "np.savetxt('X_test.csv', X_test, delimiter=',')\n",
    "np.savetxt('y_test.csv', y_test, delimiter=',')"
   ]
  },
  {
   "cell_type": "code",
   "execution_count": 17,
   "id": "fb67a238-fd54-4e24-9df6-698302553a9d",
   "metadata": {},
   "outputs": [
    {
     "name": "stdout",
     "output_type": "stream",
     "text": [
      "Epoch 1/50\n",
      "\u001b[1m28/28\u001b[0m \u001b[32m━━━━━━━━━━━━━━━━━━━━\u001b[0m\u001b[37m\u001b[0m \u001b[1m9s\u001b[0m 54ms/step - accuracy: 0.4986 - loss: 7.2432 - val_accuracy: 0.5045 - val_loss: 6.8598\n",
      "Epoch 2/50\n",
      "\u001b[1m28/28\u001b[0m \u001b[32m━━━━━━━━━━━━━━━━━━━━\u001b[0m\u001b[37m\u001b[0m \u001b[1m1s\u001b[0m 25ms/step - accuracy: 0.5016 - loss: 7.0050 - val_accuracy: 0.5091 - val_loss: 6.6428\n",
      "Epoch 3/50\n",
      "\u001b[1m28/28\u001b[0m \u001b[32m━━━━━━━━━━━━━━━━━━━━\u001b[0m\u001b[37m\u001b[0m \u001b[1m1s\u001b[0m 26ms/step - accuracy: 0.5130 - loss: 6.7842 - val_accuracy: 0.5045 - val_loss: 6.4349\n",
      "Epoch 4/50\n",
      "\u001b[1m28/28\u001b[0m \u001b[32m━━━━━━━━━━━━━━━━━━━━\u001b[0m\u001b[37m\u001b[0m \u001b[1m1s\u001b[0m 26ms/step - accuracy: 0.5020 - loss: 6.5347 - val_accuracy: 0.5068 - val_loss: 6.2354\n",
      "Epoch 5/50\n",
      "\u001b[1m28/28\u001b[0m \u001b[32m━━━━━━━━━━━━━━━━━━━━\u001b[0m\u001b[37m\u001b[0m \u001b[1m1s\u001b[0m 26ms/step - accuracy: 0.5149 - loss: 6.3224 - val_accuracy: 0.5114 - val_loss: 6.0440\n",
      "Epoch 6/50\n",
      "\u001b[1m28/28\u001b[0m \u001b[32m━━━━━━━━━━━━━━━━━━━━\u001b[0m\u001b[37m\u001b[0m \u001b[1m1s\u001b[0m 26ms/step - accuracy: 0.5114 - loss: 6.1178 - val_accuracy: 0.5136 - val_loss: 5.8601\n",
      "Epoch 7/50\n",
      "\u001b[1m28/28\u001b[0m \u001b[32m━━━━━━━━━━━━━━━━━━━━\u001b[0m\u001b[37m\u001b[0m \u001b[1m1s\u001b[0m 26ms/step - accuracy: 0.4870 - loss: 5.9744 - val_accuracy: 0.5091 - val_loss: 5.6832\n",
      "Epoch 8/50\n",
      "\u001b[1m28/28\u001b[0m \u001b[32m━━━━━━━━━━━━━━━━━━━━\u001b[0m\u001b[37m\u001b[0m \u001b[1m1s\u001b[0m 27ms/step - accuracy: 0.5111 - loss: 5.7558 - val_accuracy: 0.5182 - val_loss: 5.5134\n",
      "Epoch 9/50\n",
      "\u001b[1m28/28\u001b[0m \u001b[32m━━━━━━━━━━━━━━━━━━━━\u001b[0m\u001b[37m\u001b[0m \u001b[1m1s\u001b[0m 26ms/step - accuracy: 0.5169 - loss: 5.5738 - val_accuracy: 0.5023 - val_loss: 5.3507\n",
      "Epoch 10/50\n",
      "\u001b[1m28/28\u001b[0m \u001b[32m━━━━━━━━━━━━━━━━━━━━\u001b[0m\u001b[37m\u001b[0m \u001b[1m1s\u001b[0m 26ms/step - accuracy: 0.4886 - loss: 5.4282 - val_accuracy: 0.5045 - val_loss: 5.1947\n",
      "Epoch 11/50\n",
      "\u001b[1m28/28\u001b[0m \u001b[32m━━━━━━━━━━━━━━━━━━━━\u001b[0m\u001b[37m\u001b[0m \u001b[1m1s\u001b[0m 26ms/step - accuracy: 0.4985 - loss: 5.2574 - val_accuracy: 0.5159 - val_loss: 5.0455\n",
      "Epoch 12/50\n",
      "\u001b[1m28/28\u001b[0m \u001b[32m━━━━━━━━━━━━━━━━━━━━\u001b[0m\u001b[37m\u001b[0m \u001b[1m1s\u001b[0m 26ms/step - accuracy: 0.5371 - loss: 5.0954 - val_accuracy: 0.5227 - val_loss: 4.9019\n",
      "Epoch 13/50\n",
      "\u001b[1m28/28\u001b[0m \u001b[32m━━━━━━━━━━━━━━━━━━━━\u001b[0m\u001b[37m\u001b[0m \u001b[1m1s\u001b[0m 26ms/step - accuracy: 0.5234 - loss: 4.9522 - val_accuracy: 0.5273 - val_loss: 4.7644\n",
      "Epoch 14/50\n",
      "\u001b[1m28/28\u001b[0m \u001b[32m━━━━━━━━━━━━━━━━━━━━\u001b[0m\u001b[37m\u001b[0m \u001b[1m1s\u001b[0m 26ms/step - accuracy: 0.4912 - loss: 4.8377 - val_accuracy: 0.5295 - val_loss: 4.6324\n",
      "Epoch 15/50\n",
      "\u001b[1m28/28\u001b[0m \u001b[32m━━━━━━━━━━━━━━━━━━━━\u001b[0m\u001b[37m\u001b[0m \u001b[1m1s\u001b[0m 26ms/step - accuracy: 0.5202 - loss: 4.6677 - val_accuracy: 0.5364 - val_loss: 4.5059\n",
      "Epoch 16/50\n",
      "\u001b[1m28/28\u001b[0m \u001b[32m━━━━━━━━━━━━━━━━━━━━\u001b[0m\u001b[37m\u001b[0m \u001b[1m1s\u001b[0m 26ms/step - accuracy: 0.5085 - loss: 4.5498 - val_accuracy: 0.5341 - val_loss: 4.3846\n",
      "Epoch 17/50\n",
      "\u001b[1m28/28\u001b[0m \u001b[32m━━━━━━━━━━━━━━━━━━━━\u001b[0m\u001b[37m\u001b[0m \u001b[1m1s\u001b[0m 26ms/step - accuracy: 0.5512 - loss: 4.4017 - val_accuracy: 0.5227 - val_loss: 4.2682\n",
      "Epoch 18/50\n",
      "\u001b[1m28/28\u001b[0m \u001b[32m━━━━━━━━━━━━━━━━━━━━\u001b[0m\u001b[37m\u001b[0m \u001b[1m1s\u001b[0m 26ms/step - accuracy: 0.5228 - loss: 4.3065 - val_accuracy: 0.5341 - val_loss: 4.1564\n",
      "Epoch 19/50\n",
      "\u001b[1m28/28\u001b[0m \u001b[32m━━━━━━━━━━━━━━━━━━━━\u001b[0m\u001b[37m\u001b[0m \u001b[1m1s\u001b[0m 26ms/step - accuracy: 0.5263 - loss: 4.1982 - val_accuracy: 0.5364 - val_loss: 4.0489\n",
      "Epoch 20/50\n",
      "\u001b[1m28/28\u001b[0m \u001b[32m━━━━━━━━━━━━━━━━━━━━\u001b[0m\u001b[37m\u001b[0m \u001b[1m1s\u001b[0m 26ms/step - accuracy: 0.5107 - loss: 4.0702 - val_accuracy: 0.5477 - val_loss: 3.9456\n",
      "Epoch 21/50\n",
      "\u001b[1m28/28\u001b[0m \u001b[32m━━━━━━━━━━━━━━━━━━━━\u001b[0m\u001b[37m\u001b[0m \u001b[1m1s\u001b[0m 26ms/step - accuracy: 0.5090 - loss: 3.9647 - val_accuracy: 0.5477 - val_loss: 3.8470\n",
      "Epoch 22/50\n",
      "\u001b[1m28/28\u001b[0m \u001b[32m━━━━━━━━━━━━━━━━━━━━\u001b[0m\u001b[37m\u001b[0m \u001b[1m1s\u001b[0m 26ms/step - accuracy: 0.5068 - loss: 3.8730 - val_accuracy: 0.5409 - val_loss: 3.7523\n",
      "Epoch 23/50\n",
      "\u001b[1m28/28\u001b[0m \u001b[32m━━━━━━━━━━━━━━━━━━━━\u001b[0m\u001b[37m\u001b[0m \u001b[1m1s\u001b[0m 26ms/step - accuracy: 0.4871 - loss: 3.8027 - val_accuracy: 0.5409 - val_loss: 3.6617\n",
      "Epoch 24/50\n",
      "\u001b[1m28/28\u001b[0m \u001b[32m━━━━━━━━━━━━━━━━━━━━\u001b[0m\u001b[37m\u001b[0m \u001b[1m1s\u001b[0m 26ms/step - accuracy: 0.5035 - loss: 3.6967 - val_accuracy: 0.5432 - val_loss: 3.5754\n",
      "Epoch 25/50\n",
      "\u001b[1m28/28\u001b[0m \u001b[32m━━━━━━━━━━━━━━━━━━━━\u001b[0m\u001b[37m\u001b[0m \u001b[1m1s\u001b[0m 26ms/step - accuracy: 0.5624 - loss: 3.5738 - val_accuracy: 0.5568 - val_loss: 3.4913\n",
      "Epoch 26/50\n",
      "\u001b[1m28/28\u001b[0m \u001b[32m━━━━━━━━━━━━━━━━━━━━\u001b[0m\u001b[37m\u001b[0m \u001b[1m1s\u001b[0m 26ms/step - accuracy: 0.5221 - loss: 3.5124 - val_accuracy: 0.5591 - val_loss: 3.4114\n",
      "Epoch 27/50\n",
      "\u001b[1m28/28\u001b[0m \u001b[32m━━━━━━━━━━━━━━━━━━━━\u001b[0m\u001b[37m\u001b[0m \u001b[1m1s\u001b[0m 26ms/step - accuracy: 0.4970 - loss: 3.4473 - val_accuracy: 0.5750 - val_loss: 3.3344\n",
      "Epoch 28/50\n",
      "\u001b[1m28/28\u001b[0m \u001b[32m━━━━━━━━━━━━━━━━━━━━\u001b[0m\u001b[37m\u001b[0m \u001b[1m1s\u001b[0m 27ms/step - accuracy: 0.5319 - loss: 3.3362 - val_accuracy: 0.5614 - val_loss: 3.2607\n",
      "Epoch 29/50\n",
      "\u001b[1m28/28\u001b[0m \u001b[32m━━━━━━━━━━━━━━━━━━━━\u001b[0m\u001b[37m\u001b[0m \u001b[1m1s\u001b[0m 27ms/step - accuracy: 0.4992 - loss: 3.2901 - val_accuracy: 0.5727 - val_loss: 3.1897\n",
      "Epoch 30/50\n",
      "\u001b[1m28/28\u001b[0m \u001b[32m━━━━━━━━━━━━━━━━━━━━\u001b[0m\u001b[37m\u001b[0m \u001b[1m1s\u001b[0m 26ms/step - accuracy: 0.5336 - loss: 3.1958 - val_accuracy: 0.5932 - val_loss: 3.1212\n",
      "Epoch 31/50\n",
      "\u001b[1m28/28\u001b[0m \u001b[32m━━━━━━━━━━━━━━━━━━━━\u001b[0m\u001b[37m\u001b[0m \u001b[1m1s\u001b[0m 26ms/step - accuracy: 0.5318 - loss: 3.1327 - val_accuracy: 0.6045 - val_loss: 3.0548\n",
      "Epoch 32/50\n",
      "\u001b[1m28/28\u001b[0m \u001b[32m━━━━━━━━━━━━━━━━━━━━\u001b[0m\u001b[37m\u001b[0m \u001b[1m1s\u001b[0m 26ms/step - accuracy: 0.5329 - loss: 3.0683 - val_accuracy: 0.6091 - val_loss: 2.9915\n",
      "Epoch 33/50\n",
      "\u001b[1m28/28\u001b[0m \u001b[32m━━━━━━━━━━━━━━━━━━━━\u001b[0m\u001b[37m\u001b[0m \u001b[1m1s\u001b[0m 26ms/step - accuracy: 0.5279 - loss: 3.0178 - val_accuracy: 0.6159 - val_loss: 2.9316\n",
      "Epoch 34/50\n",
      "\u001b[1m28/28\u001b[0m \u001b[32m━━━━━━━━━━━━━━━━━━━━\u001b[0m\u001b[37m\u001b[0m \u001b[1m1s\u001b[0m 28ms/step - accuracy: 0.5363 - loss: 2.9404 - val_accuracy: 0.6386 - val_loss: 2.8726\n",
      "Epoch 35/50\n",
      "\u001b[1m28/28\u001b[0m \u001b[32m━━━━━━━━━━━━━━━━━━━━\u001b[0m\u001b[37m\u001b[0m \u001b[1m1s\u001b[0m 26ms/step - accuracy: 0.5264 - loss: 2.8862 - val_accuracy: 0.6500 - val_loss: 2.8154\n",
      "Epoch 36/50\n",
      "\u001b[1m28/28\u001b[0m \u001b[32m━━━━━━━━━━━━━━━━━━━━\u001b[0m\u001b[37m\u001b[0m \u001b[1m1s\u001b[0m 27ms/step - accuracy: 0.5483 - loss: 2.8282 - val_accuracy: 0.6750 - val_loss: 2.7612\n",
      "Epoch 37/50\n",
      "\u001b[1m28/28\u001b[0m \u001b[32m━━━━━━━━━━━━━━━━━━━━\u001b[0m\u001b[37m\u001b[0m \u001b[1m1s\u001b[0m 26ms/step - accuracy: 0.5543 - loss: 2.7725 - val_accuracy: 0.6591 - val_loss: 2.7095\n",
      "Epoch 38/50\n",
      "\u001b[1m28/28\u001b[0m \u001b[32m━━━━━━━━━━━━━━━━━━━━\u001b[0m\u001b[37m\u001b[0m \u001b[1m1s\u001b[0m 26ms/step - accuracy: 0.5662 - loss: 2.7175 - val_accuracy: 0.6705 - val_loss: 2.6575\n",
      "Epoch 39/50\n",
      "\u001b[1m28/28\u001b[0m \u001b[32m━━━━━━━━━━━━━━━━━━━━\u001b[0m\u001b[37m\u001b[0m \u001b[1m1s\u001b[0m 26ms/step - accuracy: 0.5588 - loss: 2.6572 - val_accuracy: 0.6591 - val_loss: 2.6076\n",
      "Epoch 40/50\n",
      "\u001b[1m28/28\u001b[0m \u001b[32m━━━━━━━━━━━━━━━━━━━━\u001b[0m\u001b[37m\u001b[0m \u001b[1m1s\u001b[0m 26ms/step - accuracy: 0.5928 - loss: 2.5914 - val_accuracy: 0.6773 - val_loss: 2.5576\n",
      "Epoch 41/50\n",
      "\u001b[1m28/28\u001b[0m \u001b[32m━━━━━━━━━━━━━━━━━━━━\u001b[0m\u001b[37m\u001b[0m \u001b[1m1s\u001b[0m 26ms/step - accuracy: 0.5608 - loss: 2.5630 - val_accuracy: 0.6886 - val_loss: 2.5088\n",
      "Epoch 42/50\n",
      "\u001b[1m28/28\u001b[0m \u001b[32m━━━━━━━━━━━━━━━━━━━━\u001b[0m\u001b[37m\u001b[0m \u001b[1m1s\u001b[0m 27ms/step - accuracy: 0.5760 - loss: 2.5075 - val_accuracy: 0.6977 - val_loss: 2.4605\n",
      "Epoch 43/50\n",
      "\u001b[1m28/28\u001b[0m \u001b[32m━━━━━━━━━━━━━━━━━━━━\u001b[0m\u001b[37m\u001b[0m \u001b[1m1s\u001b[0m 26ms/step - accuracy: 0.6073 - loss: 2.4513 - val_accuracy: 0.7114 - val_loss: 2.4134\n",
      "Epoch 44/50\n",
      "\u001b[1m28/28\u001b[0m \u001b[32m━━━━━━━━━━━━━━━━━━━━\u001b[0m\u001b[37m\u001b[0m \u001b[1m1s\u001b[0m 26ms/step - accuracy: 0.6569 - loss: 2.3831 - val_accuracy: 0.7182 - val_loss: 2.3657\n",
      "Epoch 45/50\n",
      "\u001b[1m28/28\u001b[0m \u001b[32m━━━━━━━━━━━━━━━━━━━━\u001b[0m\u001b[37m\u001b[0m \u001b[1m1s\u001b[0m 26ms/step - accuracy: 0.6798 - loss: 2.3380 - val_accuracy: 0.7227 - val_loss: 2.3183\n",
      "Epoch 46/50\n",
      "\u001b[1m28/28\u001b[0m \u001b[32m━━━━━━━━━━━━━━━━━━━━\u001b[0m\u001b[37m\u001b[0m \u001b[1m1s\u001b[0m 27ms/step - accuracy: 0.6515 - loss: 2.2960 - val_accuracy: 0.7250 - val_loss: 2.2667\n",
      "Epoch 47/50\n",
      "\u001b[1m28/28\u001b[0m \u001b[32m━━━━━━━━━━━━━━━━━━━━\u001b[0m\u001b[37m\u001b[0m \u001b[1m1s\u001b[0m 28ms/step - accuracy: 0.6578 - loss: 2.2577 - val_accuracy: 0.7318 - val_loss: 2.2155\n",
      "Epoch 48/50\n",
      "\u001b[1m28/28\u001b[0m \u001b[32m━━━━━━━━━━━━━━━━━━━━\u001b[0m\u001b[37m\u001b[0m \u001b[1m1s\u001b[0m 26ms/step - accuracy: 0.6899 - loss: 2.2012 - val_accuracy: 0.7318 - val_loss: 2.1656\n",
      "Epoch 49/50\n",
      "\u001b[1m28/28\u001b[0m \u001b[32m━━━━━━━━━━━━━━━━━━━━\u001b[0m\u001b[37m\u001b[0m \u001b[1m1s\u001b[0m 26ms/step - accuracy: 0.7306 - loss: 2.1364 - val_accuracy: 0.7364 - val_loss: 2.1188\n",
      "Epoch 50/50\n",
      "\u001b[1m28/28\u001b[0m \u001b[32m━━━━━━━━━━━━━━━━━━━━\u001b[0m\u001b[37m\u001b[0m \u001b[1m1s\u001b[0m 26ms/step - accuracy: 0.7176 - loss: 2.1054 - val_accuracy: 0.7455 - val_loss: 2.0702\n",
      "\u001b[1m18/18\u001b[0m \u001b[32m━━━━━━━━━━━━━━━━━━━━\u001b[0m\u001b[37m\u001b[0m \u001b[1m0s\u001b[0m 6ms/step - accuracy: 0.7546 - loss: 2.0682\n",
      "Test Accuracy: 0.7618181705474854\n"
     ]
    }
   ],
   "source": [
    "# Setting the embedding vector length to 32\n",
    "embedding_vector_length = 32\n",
    "\n",
    "# Define the model\n",
    "model = Sequential()\n",
    "\n",
    "# Embedding layer (Virahonda, 2020)\n",
    "model.add(Embedding(input_dim=vocab_size, output_dim=embedding_vector_length))\n",
    "# SpatialDropout layer (Sewell, SA3)\n",
    "model.add(SpatialDropout1D(0.3))\n",
    "# Bidirectional LSTM layer (Virahonda, 2020)\n",
    "model.add(Bidirectional(LSTM(100, dropout=0.3, recurrent_dropout=0.3, return_sequences=True, kernel_regularizer=l2(0.01))))\n",
    "# BatchNormalization layer (Zhang, Lipton, Li, & Smola, 2020)\n",
    "model.add(BatchNormalization())\n",
    "# Bidirectional LSTM layer (Virahonda, 2020)\n",
    "model.add(Bidirectional(LSTM(50, dropout=0.3, recurrent_dropout=0.3, kernel_regularizer=l2(0.01))))\n",
    "# BatchNormalization layer (Zhang, 2020)\n",
    "model.add(BatchNormalization()) # BatchNormalization layer (Zhang et al., 2020)\n",
    "# Dense layer (Virahonda, 2020)\n",
    "model.add(Dense(64, activation='relu', kernel_regularizer=l2(0.01)))\n",
    "# Dropout layer (Sewell, SA3)\n",
    "model.add(Dropout(0.5))\n",
    "# Dense layer (Virahonda, 2020)\n",
    "model.add(Dense(32, activation='relu', kernel_regularizer=l2(0.01)))\n",
    "# Dropout layer (Sewell, SA3)\n",
    "model.add(Dropout(0.5))\n",
    "# Dense layer (Sewell, 2020)\n",
    "model.add(Dense(1, activation='sigmoid'))\n",
    "\n",
    "# Compile the model\n",
    "model.compile(loss='binary_crossentropy', optimizer='adam', metrics=['accuracy'])\n",
    "\n",
    "# Define early stopping callback\n",
    "early_stopping = EarlyStopping(patience=3)\n",
    "\n",
    "# Train the model with early stopping\n",
    "history = model.fit(X_train, y_train, epochs=50, batch_size=64, validation_split=0.2, callbacks=[early_stopping])\n",
    "\n",
    "# Evaluate the model\n",
    "loss, accuracy = model.evaluate(X_test, y_test)\n",
    "print(f'Test Accuracy: {accuracy}')\n"
   ]
  },
  {
   "cell_type": "code",
   "execution_count": 18,
   "id": "cd6842a7-cbe8-4de5-8ec7-0fd7e38ba67f",
   "metadata": {},
   "outputs": [
    {
     "data": {
      "image/png": "[encoded data removed]",
      "text/plain": [
       "<Figure size 640x480 with 1 Axes>"
      ]
     },
     "metadata": {},
     "output_type": "display_data"
    }
   ],
   "source": [
    "plt.plot(history.history['accuracy'], label='Training Accuracy')\n",
    "plt.plot(history.history['val_accuracy'], label='Validation Accuracy')\n",
    "plt.legend()\n",
    "plt.show()"
   ]
  },
  {
   "cell_type": "code",
   "execution_count": 19,
   "id": "f26ae987-327f-47c5-9ab3-91e4d9705cb6",
   "metadata": {},
   "outputs": [
    {
     "data": {
      "image/png": "[encoded data removed]",
      "text/plain": [
       "<Figure size 640x480 with 1 Axes>"
      ]
     },
     "metadata": {},
     "output_type": "display_data"
    }
   ],
   "source": [
    "plt.plot(history.history['loss'], label='Training Loss')\n",
    "plt.plot(history.history['val_loss'], label='Validation Loss')\n",
    "plt.legend()\n",
    "plt.show()"
   ]
  },
  {
   "cell_type": "code",
   "execution_count": 20,
   "id": "c16d06ba-47ca-4dcb-87d4-29d6542cc604",
   "metadata": {},
   "outputs": [
    {
     "data": {
      "text/html": [
       "<pre style=\"white-space:pre;overflow-x:auto;line-height:normal;font-family:Menlo,'DejaVu Sans Mono',consolas,'Courier New',monospace\"><span style=\"font-weight: bold\">Model: \"sequential\"</span>\n",
       "</pre>\n"
      ],
      "text/plain": [
       "\u001b[1mModel: \"sequential\"\u001b[0m\n"
      ]
     },
     "metadata": {},
     "output_type": "display_data"
    },
    {
     "data": {
      "text/html": [
       "<pre style=\"white-space:pre;overflow-x:auto;line-height:normal;font-family:Menlo,'DejaVu Sans Mono',consolas,'Courier New',monospace\">┏━━━━━━━━━━━━━━━━━━━━━━━━━━━━━━━━━━━━━━┳━━━━━━━━━━━━━━━━━━━━━━━━━━━━━┳━━━━━━━━━━━━━━━━━┓\n",
       "┃<span style=\"font-weight: bold\"> Layer (type)                         </span>┃<span style=\"font-weight: bold\"> Output Shape                </span>┃<span style=\"font-weight: bold\">         Param # </span>┃\n",
       "┡━━━━━━━━━━━━━━━━━━━━━━━━━━━━━━━━━━━━━━╇━━━━━━━━━━━━━━━━━━━━━━━━━━━━━╇━━━━━━━━━━━━━━━━━┩\n",
       "│ embedding (<span style=\"color: #0087ff; text-decoration-color: #0087ff\">Embedding</span>)                │ (<span style=\"color: #00d7ff; text-decoration-color: #00d7ff\">None</span>, <span style=\"color: #00af00; text-decoration-color: #00af00\">14</span>, <span style=\"color: #00af00; text-decoration-color: #00af00\">32</span>)              │         <span style=\"color: #00af00; text-decoration-color: #00af00\">133,664</span> │\n",
       "├──────────────────────────────────────┼─────────────────────────────┼─────────────────┤\n",
       "│ spatial_dropout1d (<span style=\"color: #0087ff; text-decoration-color: #0087ff\">SpatialDropout1D</span>) │ (<span style=\"color: #00d7ff; text-decoration-color: #00d7ff\">None</span>, <span style=\"color: #00af00; text-decoration-color: #00af00\">14</span>, <span style=\"color: #00af00; text-decoration-color: #00af00\">32</span>)              │               <span style=\"color: #00af00; text-decoration-color: #00af00\">0</span> │\n",
       "├──────────────────────────────────────┼─────────────────────────────┼─────────────────┤\n",
       "│ bidirectional (<span style=\"color: #0087ff; text-decoration-color: #0087ff\">Bidirectional</span>)        │ (<span style=\"color: #00d7ff; text-decoration-color: #00d7ff\">None</span>, <span style=\"color: #00af00; text-decoration-color: #00af00\">14</span>, <span style=\"color: #00af00; text-decoration-color: #00af00\">200</span>)             │         <span style=\"color: #00af00; text-decoration-color: #00af00\">106,400</span> │\n",
       "├──────────────────────────────────────┼─────────────────────────────┼─────────────────┤\n",
       "│ batch_normalization                  │ (<span style=\"color: #00d7ff; text-decoration-color: #00d7ff\">None</span>, <span style=\"color: #00af00; text-decoration-color: #00af00\">14</span>, <span style=\"color: #00af00; text-decoration-color: #00af00\">200</span>)             │             <span style=\"color: #00af00; text-decoration-color: #00af00\">800</span> │\n",
       "│ (<span style=\"color: #0087ff; text-decoration-color: #0087ff\">BatchNormalization</span>)                 │                             │                 │\n",
       "├──────────────────────────────────────┼─────────────────────────────┼─────────────────┤\n",
       "│ bidirectional_1 (<span style=\"color: #0087ff; text-decoration-color: #0087ff\">Bidirectional</span>)      │ (<span style=\"color: #00d7ff; text-decoration-color: #00d7ff\">None</span>, <span style=\"color: #00af00; text-decoration-color: #00af00\">100</span>)                 │         <span style=\"color: #00af00; text-decoration-color: #00af00\">100,400</span> │\n",
       "├──────────────────────────────────────┼─────────────────────────────┼─────────────────┤\n",
       "│ batch_normalization_1                │ (<span style=\"color: #00d7ff; text-decoration-color: #00d7ff\">None</span>, <span style=\"color: #00af00; text-decoration-color: #00af00\">100</span>)                 │             <span style=\"color: #00af00; text-decoration-color: #00af00\">400</span> │\n",
       "│ (<span style=\"color: #0087ff; text-decoration-color: #0087ff\">BatchNormalization</span>)                 │                             │                 │\n",
       "├──────────────────────────────────────┼─────────────────────────────┼─────────────────┤\n",
       "│ dense (<span style=\"color: #0087ff; text-decoration-color: #0087ff\">Dense</span>)                        │ (<span style=\"color: #00d7ff; text-decoration-color: #00d7ff\">None</span>, <span style=\"color: #00af00; text-decoration-color: #00af00\">64</span>)                  │           <span style=\"color: #00af00; text-decoration-color: #00af00\">6,464</span> │\n",
       "├──────────────────────────────────────┼─────────────────────────────┼─────────────────┤\n",
       "│ dropout (<span style=\"color: #0087ff; text-decoration-color: #0087ff\">Dropout</span>)                    │ (<span style=\"color: #00d7ff; text-decoration-color: #00d7ff\">None</span>, <span style=\"color: #00af00; text-decoration-color: #00af00\">64</span>)                  │               <span style=\"color: #00af00; text-decoration-color: #00af00\">0</span> │\n",
       "├──────────────────────────────────────┼─────────────────────────────┼─────────────────┤\n",
       "│ dense_1 (<span style=\"color: #0087ff; text-decoration-color: #0087ff\">Dense</span>)                      │ (<span style=\"color: #00d7ff; text-decoration-color: #00d7ff\">None</span>, <span style=\"color: #00af00; text-decoration-color: #00af00\">32</span>)                  │           <span style=\"color: #00af00; text-decoration-color: #00af00\">2,080</span> │\n",
       "├──────────────────────────────────────┼─────────────────────────────┼─────────────────┤\n",
       "│ dropout_1 (<span style=\"color: #0087ff; text-decoration-color: #0087ff\">Dropout</span>)                  │ (<span style=\"color: #00d7ff; text-decoration-color: #00d7ff\">None</span>, <span style=\"color: #00af00; text-decoration-color: #00af00\">32</span>)                  │               <span style=\"color: #00af00; text-decoration-color: #00af00\">0</span> │\n",
       "├──────────────────────────────────────┼─────────────────────────────┼─────────────────┤\n",
       "│ dense_2 (<span style=\"color: #0087ff; text-decoration-color: #0087ff\">Dense</span>)                      │ (<span style=\"color: #00d7ff; text-decoration-color: #00d7ff\">None</span>, <span style=\"color: #00af00; text-decoration-color: #00af00\">1</span>)                   │              <span style=\"color: #00af00; text-decoration-color: #00af00\">33</span> │\n",
       "└──────────────────────────────────────┴─────────────────────────────┴─────────────────┘\n",
       "</pre>\n"
      ],
      "text/plain": [
       "┏━━━━━━━━━━━━━━━━━━━━━━━━━━━━━━━━━━━━━━┳━━━━━━━━━━━━━━━━━━━━━━━━━━━━━┳━━━━━━━━━━━━━━━━━┓\n",
       "┃\u001b[1m \u001b[0m\u001b[1mLayer (type)                        \u001b[0m\u001b[1m \u001b[0m┃\u001b[1m \u001b[0m\u001b[1mOutput Shape               \u001b[0m\u001b[1m \u001b[0m┃\u001b[1m \u001b[0m\u001b[1m        Param #\u001b[0m\u001b[1m \u001b[0m┃\n",
       "┡━━━━━━━━━━━━━━━━━━━━━━━━━━━━━━━━━━━━━━╇━━━━━━━━━━━━━━━━━━━━━━━━━━━━━╇━━━━━━━━━━━━━━━━━┩\n",
       "│ embedding (\u001b[38;5;33mEmbedding\u001b[0m)                │ (\u001b[38;5;45mNone\u001b[0m, \u001b[38;5;34m14\u001b[0m, \u001b[38;5;34m32\u001b[0m)              │         \u001b[38;5;34m133,664\u001b[0m │\n",
       "├──────────────────────────────────────┼─────────────────────────────┼─────────────────┤\n",
       "│ spatial_dropout1d (\u001b[38;5;33mSpatialDropout1D\u001b[0m) │ (\u001b[38;5;45mNone\u001b[0m, \u001b[38;5;34m14\u001b[0m, \u001b[38;5;34m32\u001b[0m)              │               \u001b[38;5;34m0\u001b[0m │\n",
       "├──────────────────────────────────────┼─────────────────────────────┼─────────────────┤\n",
       "│ bidirectional (\u001b[38;5;33mBidirectional\u001b[0m)        │ (\u001b[38;5;45mNone\u001b[0m, \u001b[38;5;34m14\u001b[0m, \u001b[38;5;34m200\u001b[0m)             │         \u001b[38;5;34m106,400\u001b[0m │\n",
       "├──────────────────────────────────────┼─────────────────────────────┼─────────────────┤\n",
       "│ batch_normalization                  │ (\u001b[38;5;45mNone\u001b[0m, \u001b[38;5;34m14\u001b[0m, \u001b[38;5;34m200\u001b[0m)             │             \u001b[38;5;34m800\u001b[0m │\n",
       "│ (\u001b[38;5;33mBatchNormalization\u001b[0m)                 │                             │                 │\n",
       "├──────────────────────────────────────┼─────────────────────────────┼─────────────────┤\n",
       "│ bidirectional_1 (\u001b[38;5;33mBidirectional\u001b[0m)      │ (\u001b[38;5;45mNone\u001b[0m, \u001b[38;5;34m100\u001b[0m)                 │         \u001b[38;5;34m100,400\u001b[0m │\n",
       "├──────────────────────────────────────┼─────────────────────────────┼─────────────────┤\n",
       "│ batch_normalization_1                │ (\u001b[38;5;45mNone\u001b[0m, \u001b[38;5;34m100\u001b[0m)                 │             \u001b[38;5;34m400\u001b[0m │\n",
       "│ (\u001b[38;5;33mBatchNormalization\u001b[0m)                 │                             │                 │\n",
       "├──────────────────────────────────────┼─────────────────────────────┼─────────────────┤\n",
       "│ dense (\u001b[38;5;33mDense\u001b[0m)                        │ (\u001b[38;5;45mNone\u001b[0m, \u001b[38;5;34m64\u001b[0m)                  │           \u001b[38;5;34m6,464\u001b[0m │\n",
       "├──────────────────────────────────────┼─────────────────────────────┼─────────────────┤\n",
       "│ dropout (\u001b[38;5;33mDropout\u001b[0m)                    │ (\u001b[38;5;45mNone\u001b[0m, \u001b[38;5;34m64\u001b[0m)                  │               \u001b[38;5;34m0\u001b[0m │\n",
       "├──────────────────────────────────────┼─────────────────────────────┼─────────────────┤\n",
       "│ dense_1 (\u001b[38;5;33mDense\u001b[0m)                      │ (\u001b[38;5;45mNone\u001b[0m, \u001b[38;5;34m32\u001b[0m)                  │           \u001b[38;5;34m2,080\u001b[0m │\n",
       "├──────────────────────────────────────┼─────────────────────────────┼─────────────────┤\n",
       "│ dropout_1 (\u001b[38;5;33mDropout\u001b[0m)                  │ (\u001b[38;5;45mNone\u001b[0m, \u001b[38;5;34m32\u001b[0m)                  │               \u001b[38;5;34m0\u001b[0m │\n",
       "├──────────────────────────────────────┼─────────────────────────────┼─────────────────┤\n",
       "│ dense_2 (\u001b[38;5;33mDense\u001b[0m)                      │ (\u001b[38;5;45mNone\u001b[0m, \u001b[38;5;34m1\u001b[0m)                   │              \u001b[38;5;34m33\u001b[0m │\n",
       "└──────────────────────────────────────┴─────────────────────────────┴─────────────────┘\n"
      ]
     },
     "metadata": {},
     "output_type": "display_data"
    },
    {
     "data": {
      "text/html": [
       "<pre style=\"white-space:pre;overflow-x:auto;line-height:normal;font-family:Menlo,'DejaVu Sans Mono',consolas,'Courier New',monospace\"><span style=\"font-weight: bold\"> Total params: </span><span style=\"color: #00af00; text-decoration-color: #00af00\">1,049,525</span> (4.00 MB)\n",
       "</pre>\n"
      ],
      "text/plain": [
       "\u001b[1m Total params: \u001b[0m\u001b[38;5;34m1,049,525\u001b[0m (4.00 MB)\n"
      ]
     },
     "metadata": {},
     "output_type": "display_data"
    },
    {
     "data": {
      "text/html": [
       "<pre style=\"white-space:pre;overflow-x:auto;line-height:normal;font-family:Menlo,'DejaVu Sans Mono',consolas,'Courier New',monospace\"><span style=\"font-weight: bold\"> Trainable params: </span><span style=\"color: #00af00; text-decoration-color: #00af00\">349,641</span> (1.33 MB)\n",
       "</pre>\n"
      ],
      "text/plain": [
       "\u001b[1m Trainable params: \u001b[0m\u001b[38;5;34m349,641\u001b[0m (1.33 MB)\n"
      ]
     },
     "metadata": {},
     "output_type": "display_data"
    },
    {
     "data": {
      "text/html": [
       "<pre style=\"white-space:pre;overflow-x:auto;line-height:normal;font-family:Menlo,'DejaVu Sans Mono',consolas,'Courier New',monospace\"><span style=\"font-weight: bold\"> Non-trainable params: </span><span style=\"color: #00af00; text-decoration-color: #00af00\">600</span> (2.34 KB)\n",
       "</pre>\n"
      ],
      "text/plain": [
       "\u001b[1m Non-trainable params: \u001b[0m\u001b[38;5;34m600\u001b[0m (2.34 KB)\n"
      ]
     },
     "metadata": {},
     "output_type": "display_data"
    },
    {
     "data": {
      "text/html": [
       "<pre style=\"white-space:pre;overflow-x:auto;line-height:normal;font-family:Menlo,'DejaVu Sans Mono',consolas,'Courier New',monospace\"><span style=\"font-weight: bold\"> Optimizer params: </span><span style=\"color: #00af00; text-decoration-color: #00af00\">699,284</span> (2.67 MB)\n",
       "</pre>\n"
      ],
      "text/plain": [
       "\u001b[1m Optimizer params: \u001b[0m\u001b[38;5;34m699,284\u001b[0m (2.67 MB)\n"
      ]
     },
     "metadata": {},
     "output_type": "display_data"
    },
    {
     "name": "stdout",
     "output_type": "stream",
     "text": [
      "None\n"
     ]
    }
   ],
   "source": [
    "print(model.summary())"
   ]
  },
  {
   "cell_type": "code",
   "execution_count": null,
   "id": "67533086-703d-4173-9d86-b1bd65015dee",
   "metadata": {},
   "outputs": [],
   "source": []
  },
  {
   "cell_type": "code",
   "execution_count": null,
   "id": "767cbf6c-4ca6-495a-9334-c2221416afa1",
   "metadata": {},
   "outputs": [],
   "source": []
  }
 ],
 "metadata": {
  "kernelspec": {
   "display_name": "Python 3 (ipykernel)",
   "language": "python",
   "name": "python3"
  },
  "language_info": {
   "codemirror_mode": {
    "name": "ipython",
    "version": 3
   },
   "file_extension": ".py",
   "mimetype": "text/x-python",
   "name": "python",
   "nbconvert_exporter": "python",
   "pygments_lexer": "ipython3",
   "version": "3.12.4"
  }
 },
 "nbformat": 4,
 "nbformat_minor": 5
}
